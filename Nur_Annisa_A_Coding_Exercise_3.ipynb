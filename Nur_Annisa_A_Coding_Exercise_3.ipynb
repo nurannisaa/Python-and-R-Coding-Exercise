{
  "nbformat": 4,
  "nbformat_minor": 0,
  "metadata": {
    "kernelspec": {
      "display_name": "Python 3",
      "language": "python",
      "name": "python3"
    },
    "language_info": {
      "codemirror_mode": {
        "name": "ipython",
        "version": 3
      },
      "file_extension": ".py",
      "mimetype": "text/x-python",
      "name": "python",
      "nbconvert_exporter": "python",
      "pygments_lexer": "ipython3",
      "version": "3.7.0"
    },
    "colab": {
      "name": "Nur Annisa A_Coding Exercise 3.ipynb",
      "provenance": [],
      "collapsed_sections": []
    }
  },
  "cells": [
    {
      "cell_type": "markdown",
      "metadata": {
        "id": "GJ9Rg-i9J1wX"
      },
      "source": [
        "## Welcome to the Week 3 Coding Challenge!\n",
        "### This week's theme is: String! \n",
        "\n",
        "From this week forward, your function initialization method will not be given. You should figure it out by yourself. Keep up the good work!"
      ]
    },
    {
      "cell_type": "markdown",
      "metadata": {
        "id": "oYMue9A8FXaX"
      },
      "source": [
        "Name : Nur Annisa A\n",
        "(DS 6)"
      ]
    },
    {
      "cell_type": "markdown",
      "metadata": {
        "id": "2YzIS2qHJ1wi"
      },
      "source": [
        "Problem 1: Find the amount of substring."
      ]
    },
    {
      "cell_type": "markdown",
      "metadata": {
        "id": "mc_0sfkrJ1wk"
      },
      "source": [
        "Create a function whose name is ```substring_count``` that does the following: \n",
        "\n",
        "Given a string and a substring. Count how many times the substring appears in the string. The first input is always the string (the longer one), and the second input is always the substring (the shorter one).\n",
        "\n",
        "##### Example 1:\n",
        "\n",
        "Input:\n",
        "\n",
        "string = 'ABCDCDC'\n",
        "\n",
        "substring = 'CD'\n",
        "\n",
        "How many times 'CD' appears in 'ABCDCDC'? \n",
        "2 times! So when we run ```substring_count('ABCDCDC', 'CD')``` the output will be '2'. \n",
        "\n",
        "Output: 2\n",
        "\n",
        "##### Example 2:\n",
        "\n",
        "String:\n",
        "\n",
        "string = 'ABCDCDC'\n",
        "\n",
        "substring = 'CDC'\n",
        "\n",
        "How many times 'CDC' appears in 'ABCDCDC'?\n",
        "2 times! Yes, it can overlap. AB**CDC**DC, and ABCD**CDC**. So when we run ```substring_count('ABCDCDC', 'CDC')``` the output will be '2'. \n",
        "\n",
        "Output: 2\n",
        "\n",
        "##### Example 3:\n",
        "\n",
        "string = 'DEDFDEDEDEG'\n",
        "\n",
        "substring = 'DED'\n",
        "\n",
        "How many times 'DED' appears in 'DEDFDEDEDEG'?\n",
        "3 times! First: **DED**FDEDEDEG. Second: DEDF**DED**EDEG. Third: DEDFDE**DED**EG.\n",
        "\n",
        "Output: 3"
      ]
    },
    {
      "cell_type": "code",
      "metadata": {
        "id": "jh-46tA_J1wn"
      },
      "source": [
        "### Write your solution here ###\n",
        "import re\n",
        "\n",
        "# create a function with two input : string and substring\n",
        "def substring_count(string_,substring):\n",
        "\n",
        "# create a condition to count the substring\n",
        "  count = sum(1 for i in range(len(string_)) \n",
        "         if string_.startswith(substring, i))\n",
        "  \n",
        "# Result\n",
        "  print(\"Number of substrings\", count) "
      ],
      "execution_count": null,
      "outputs": []
    },
    {
      "cell_type": "code",
      "metadata": {
        "colab": {
          "base_uri": "https://localhost:8080/"
        },
        "id": "aEFK21LiJGrW",
        "outputId": "0b209e0a-907c-4504-fbfc-ce971bdf8d41"
      },
      "source": [
        "substring_count('ABCDCDC', 'CD')"
      ],
      "execution_count": null,
      "outputs": [
        {
          "output_type": "stream",
          "name": "stdout",
          "text": [
            "Number of substrings 2\n"
          ]
        }
      ]
    },
    {
      "cell_type": "code",
      "metadata": {
        "colab": {
          "base_uri": "https://localhost:8080/"
        },
        "id": "z_0sIs6eFNrq",
        "outputId": "cb825b5b-dad4-4d10-eb2d-6873ebd7dd9f"
      },
      "source": [
        "substring_count('ABCDCDC', 'CDC')"
      ],
      "execution_count": null,
      "outputs": [
        {
          "output_type": "stream",
          "name": "stdout",
          "text": [
            "Number of substrings 2\n"
          ]
        }
      ]
    },
    {
      "cell_type": "code",
      "metadata": {
        "id": "0u7ztsuoJ1wt",
        "colab": {
          "base_uri": "https://localhost:8080/"
        },
        "outputId": "08ccbd9d-b0f4-4216-97b3-7aa4e0bbed71"
      },
      "source": [
        "substring_count('DEDFDEDEDEG','DED')"
      ],
      "execution_count": null,
      "outputs": [
        {
          "output_type": "stream",
          "name": "stdout",
          "text": [
            "Number of substrings 3\n"
          ]
        }
      ]
    },
    {
      "cell_type": "markdown",
      "metadata": {
        "id": "RSBjxPi1J1wu"
      },
      "source": [
        "Problem 2: How many different letters are there in the string?"
      ]
    },
    {
      "cell_type": "markdown",
      "metadata": {
        "id": "phpSLZTTJ1ww"
      },
      "source": [
        "Create a function called ```diff_letters``` that counts how many different letters are there in the input string.\n",
        "\n",
        "The input is just a single string.\n",
        "\n",
        "##### Example 1:\n",
        "\n",
        "Input: 'AAAAAAAAAB'\n",
        "\n",
        "Since there are only 2 different letters in the input string, the output is 2.\n",
        "\n",
        "When we run ```diff_letters```, the output is '2'.\n",
        "\n",
        "Output: 2\n",
        "\n",
        "##### Example 2:\n",
        "\n",
        "Input: 'ABCDAAAABBCCCE'\n",
        "\n",
        "Since there are 5 different letters in that string (A, B, C, D, E), the output is 5.\n",
        "\n",
        "Output: 5"
      ]
    },
    {
      "cell_type": "code",
      "metadata": {
        "id": "ojhUY_MXJ1wy"
      },
      "source": [
        "### Write your code here ###\n",
        "# Create a function with string as the input \n",
        "def diff_letters(word):\n",
        "\n",
        "  # Create the definition, letters = list () that will be filled after the looping\n",
        "  letters = list()\n",
        "\n",
        "  # Store every different letter from the word into the list\n",
        "  for i in word:\n",
        "    if i not in letters:\n",
        "      letters.append(i)\n",
        "  \n",
        "  # Result\n",
        "  print(len(letters))"
      ],
      "execution_count": null,
      "outputs": []
    },
    {
      "cell_type": "code",
      "metadata": {
        "id": "NP7AtS3ZJ1w0",
        "colab": {
          "base_uri": "https://localhost:8080/"
        },
        "outputId": "51ccdef3-0649-4cae-da8c-4089dcf7414c"
      },
      "source": [
        "diff_letters('AAAAAAAAAB')"
      ],
      "execution_count": null,
      "outputs": [
        {
          "output_type": "stream",
          "name": "stdout",
          "text": [
            "2\n"
          ]
        }
      ]
    },
    {
      "cell_type": "code",
      "metadata": {
        "id": "rth4lR2eJ1w1",
        "colab": {
          "base_uri": "https://localhost:8080/"
        },
        "outputId": "2335dc42-e864-4e03-d5fd-a185dac83ea0"
      },
      "source": [
        "diff_letters('ABCDAAAABBCCCE')"
      ],
      "execution_count": null,
      "outputs": [
        {
          "output_type": "stream",
          "name": "stdout",
          "text": [
            "5\n"
          ]
        }
      ]
    },
    {
      "cell_type": "code",
      "metadata": {
        "id": "QlSzB2-IJ1w2"
      },
      "source": [
        ""
      ],
      "execution_count": null,
      "outputs": []
    },
    {
      "cell_type": "code",
      "metadata": {
        "id": "bGExIfVpJ1w3"
      },
      "source": [
        ""
      ],
      "execution_count": null,
      "outputs": []
    },
    {
      "cell_type": "code",
      "metadata": {
        "id": "pgEDlYtdJ1w3"
      },
      "source": [
        ""
      ],
      "execution_count": null,
      "outputs": []
    },
    {
      "cell_type": "code",
      "metadata": {
        "id": "_Dr-BMqWJ1w4"
      },
      "source": [
        ""
      ],
      "execution_count": null,
      "outputs": []
    },
    {
      "cell_type": "markdown",
      "metadata": {
        "id": "FAWaAokJJ1w4"
      },
      "source": [
        "Problem 3: Find Distance Between Two Coordinates - Medium"
      ]
    },
    {
      "cell_type": "markdown",
      "metadata": {
        "id": "2GLsYc_5J1w5"
      },
      "source": [
        "Create a function called ```distance``` that does the following:\n",
        "\n",
        "Given two coordinates in a list. Your task is to calculate the distance between these two coordinates. The input of your function will be a string. The coordinate that appears first is the first coordinate, and the coordinate that appears after the comma is the second coordinate.\n",
        "\n",
        "##### Example 1:\n",
        "\n",
        "Input: \n",
        "\n",
        "'(5,5), (1,2)'\n",
        "\n",
        "This means, the first point's coordinate is (5,5), the second point's coordinate is (1,2). To calculate the distance between these two points, we use the usual euclidean distance formula here: https://wikimedia.org/api/rest_v1/media/math/render/svg/2e0c9ce1b3455cb9e92c6bad6684dbda02f69c82. \n",
        "\n",
        "The distance is: \n",
        "\n",
        "Square root of ((5-1)^2 + (5-2)^2) = Square root of (16 + 9) = Square root of (25) = 5.\n",
        "\n",
        "Output: 'The distance is 5'\n",
        "\n",
        "So, when we run the code ```distance('(5,5),(1,2)')``` the output will be 'The distance is 5'.\n",
        "\n",
        "##### Example 2:\n",
        "\n",
        "Input:\n",
        "\n",
        "'(0,-1), (-3,2)'\n",
        "\n",
        "The first coordinate is (0,-1), the second coordinate is (-3,2). The distance between them is:\n",
        "\n",
        "Square root of ((0- -3)^2 + (-1-2)^2) = Square root of (9 + 9) = Square root of (18) = 4.242640687\n",
        "\n",
        "Output: 'The distance is 4.242640687'\n",
        "\n",
        "So, when we run the code ```distance('(0,-1),(-3,2)')``` the output will be 'The distance is 4.242640487'\n",
        "\n",
        "##### FAQ:\n",
        "\n",
        "- Question: \"Desimalnya dibuletin ga?\"\n",
        "- Answer: \"Ga usah peduliin format output desimalnya. Mau keluar berapa angka di belakang koma gpp kok. Yang penting value nya bener.\" \n",
        "- Question: \"Lha bedanya apa sama soal week 2?\"\n",
        "- Answer: \"Bedanya kali ini inputnya cuma 1, dan dia berupa teks (string), bukan list kyk minggu lalu. Semangat!\""
      ]
    },
    {
      "cell_type": "code",
      "metadata": {
        "id": "P99530C0J1w9"
      },
      "source": [
        "### Example\n",
        "a = '(5,5), (1,2)'\n",
        "\n",
        "distance(a) \n",
        "\n",
        "# when you run this cell, it is expected that the output will be:\n",
        "# 'The distance is 5'"
      ],
      "execution_count": null,
      "outputs": []
    },
    {
      "cell_type": "code",
      "metadata": {
        "id": "NlPuBqANJ1xF"
      },
      "source": [
        "import numpy as np\n",
        "import pandas as pd\n",
        "import re\n",
        "def distance(str): # Create a function with string (str) as an input\n",
        "\n",
        "  # Delete the non numbers element exept for dash (-) and comma (,)\n",
        "  a = re.sub(\"[^0-9^,-]\", \"\", str) \n",
        "\n",
        "  # Split the string with comma (,)\n",
        "  b = a.split(sep=\",\") \n",
        "\n",
        "  # Convert list of string into list of integer\n",
        "  c = list(map(int, b))\n",
        "\n",
        "  # Convert list of integer into array \n",
        "  d = np.array(c)\n",
        "\n",
        "  # Calculate the distance with euclidean distance formula \n",
        "  distance = ((d[0]-d[2])**2 + (d[1]-d[3])**2)**0.5\n",
        "\n",
        "  print('The distance is ',distance)"
      ],
      "execution_count": null,
      "outputs": []
    },
    {
      "cell_type": "code",
      "metadata": {
        "id": "4v42QBQqJ1xG",
        "colab": {
          "base_uri": "https://localhost:8080/"
        },
        "outputId": "0cfa8031-18fb-417b-82e6-24af267d20cb"
      },
      "source": [
        "distance('(5,5), (1,2)')"
      ],
      "execution_count": null,
      "outputs": [
        {
          "output_type": "stream",
          "name": "stdout",
          "text": [
            "The distance is  5.0\n"
          ]
        }
      ]
    },
    {
      "cell_type": "code",
      "metadata": {
        "id": "1tB8liSrJ1xG",
        "colab": {
          "base_uri": "https://localhost:8080/"
        },
        "outputId": "38e4830e-e8d5-4d2d-83fa-66687860539f"
      },
      "source": [
        "distance('(0,-1), (-3,2)')\n"
      ],
      "execution_count": null,
      "outputs": [
        {
          "output_type": "stream",
          "name": "stdout",
          "text": [
            "The distance is  4.242640687119285\n"
          ]
        }
      ]
    },
    {
      "cell_type": "code",
      "metadata": {
        "id": "m25vkmQTr6Cr"
      },
      "source": [
        ""
      ],
      "execution_count": null,
      "outputs": []
    }
  ]
}