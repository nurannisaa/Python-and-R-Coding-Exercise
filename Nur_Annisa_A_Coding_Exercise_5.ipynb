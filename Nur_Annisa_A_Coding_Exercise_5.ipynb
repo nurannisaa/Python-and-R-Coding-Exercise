{
  "nbformat": 4,
  "nbformat_minor": 5,
  "metadata": {
    "colab": {
      "name": "Nur Annisa A_Coding Exercise 5.ipynb",
      "provenance": [],
      "collapsed_sections": []
    },
    "kernelspec": {
      "display_name": "Python 3",
      "language": "python",
      "name": "python3"
    },
    "language_info": {
      "codemirror_mode": {
        "name": "ipython",
        "version": 3
      },
      "file_extension": ".py",
      "mimetype": "text/x-python",
      "name": "python",
      "nbconvert_exporter": "python",
      "pygments_lexer": "ipython3",
      "version": "3.8.5"
    }
  },
  "cells": [
    {
      "cell_type": "markdown",
      "metadata": {
        "id": "NyNq7nWFmBsj"
      },
      "source": [
        "## Welcome to Coding Exercise 5. \n",
        "\n",
        "We'll only have 2 questions and both of them will be difficult. "
      ],
      "id": "NyNq7nWFmBsj"
    },
    {
      "cell_type": "markdown",
      "metadata": {
        "id": "IxbgyEDfmBsr"
      },
      "source": [
        "### Question 1. Difficulty: Hard. Points = 50\n",
        "### \"Greatest Possible Combination\""
      ],
      "id": "IxbgyEDfmBsr"
    },
    {
      "cell_type": "markdown",
      "metadata": {
        "id": "hkR5zbrjmBss"
      },
      "source": [
        "We have a function as such:\n",
        "\n",
        "```f(x1, x2, x3) = (x1^2 + x2 * x3) modulo 20 ```\n",
        "\n",
        "Given 3 list/array/vector containing possible values of x1, x2, and x3, find the maximum output possible. \n",
        "\n",
        "#### Explanation:\n",
        "\n",
        "If x1 = 2, x2 = 5, x3 = 3, then...\n",
        "\n",
        "The function's output is: (2^2 + 5 * 3) modulo 20 = (4 + 15) modulo 20 = 19 modulo 20 = 19. \n",
        "\n",
        "\n",
        "If x1 = 3, x2 = 5, x3 = 3, then...\n",
        "\n",
        "The function's output is: (3^2 + 5 * 3) modulo 20 = (9 + 15) modulo 20 = 24 modulo 20 = 4. \n",
        "\n",
        "In this case, since 19 > 4, the combination of (X1 = 2, X2 = 5, X3 = 3) gives a *greater* output value than the combination of (X1 = 3, X2 = 5, X3 = 3).\n",
        "\n",
        "#### Example:\n",
        "\n",
        "- Array X1: [2, 4]\n",
        "- Array X2: [1, 2, 3]\n",
        "- Array x3: [5, 6]\n",
        "\n",
        "How many combinations do we have? \n",
        "1. X1 = 2, X2 = 1, X3 = 5. Output = (2^2 + 1 * 5) modulo 20 = 9 modulo 20 = 9. \n",
        "2. X1 = 2, X2 = 1, X3 = 6. Output = 10\n",
        "3. X1 = 2, X2 = 2, X3 = 5. Output = 14\n",
        "4. X1 = 2, X2 = 2, X3 = 6. Output = 16\n",
        "5. X1 = 2, X2 = 3, X3 = 5. Output = 19\n",
        "6. X1 = 2, X2 = 3, X3 = 6. Output = (2^2 + 3 * 6) modulo 20 = 22 modulo 20 = 2\n",
        "7. X1 = 4, X2 = 1, X3 = 5. Output = 1\n",
        "8. X1 = 4, X2 = 1, X3 = 6. Output = 2\n",
        "9. X1 = 4, X2 = 2, X3 = 5. Output = 6\n",
        "10. X1 = 4, X2 = 2, X3 = 6. Output = 8\n",
        "11. X1 = 4, X2 = 3, X3 = 5. Output = 11\n",
        "12. X1 = 4, X2 = 3, X3 = 6. Output = 14\n",
        "\n",
        "Out of these 12 combinations, what is the maximum output of our function?\n",
        "\n",
        "The maximum output is 19, achieved with X1 = 2, X2 = 3, X3 = 5. \n",
        "\n",
        "Answer : 19\n",
        "\n",
        "(No need to specify the values of X1, X2, X3).\n"
      ],
      "id": "hkR5zbrjmBss"
    },
    {
      "cell_type": "code",
      "metadata": {
        "id": "C3HZ0MgrmBsu"
      },
      "source": [
        "### Write your solution here ###\n",
        "import numpy as np\n",
        "import pandas as pd\n",
        "import itertools\n",
        "from pprint import pprint\n",
        "\n",
        "def maximum(x1,x2,x3):\n",
        "  X1 = np.array(x1)\n",
        "  X2 = np.array(x2)\n",
        "  X3 = np.array(x3)\n",
        "  lst = (X1,X2,X3)\n",
        "  combi = list(itertools.product(*lst))\n",
        "\n",
        "  output = [[]for i in range(len(combi))]\n",
        "  for i in range(len(combi)):\n",
        "    a = combi [i]\n",
        "    # f(x1, x2, x3) = (x1^2 + x2 * x3) modulo 20\n",
        "    b = (a[0]**2 + a[1]*a[2]) % 20\n",
        "    output[i].append(b)\n",
        "    c = max(output)\n",
        "\n",
        "  print(\"The maximum output is\",c)\n",
        "  return"
      ],
      "id": "C3HZ0MgrmBsu",
      "execution_count": null,
      "outputs": []
    },
    {
      "cell_type": "code",
      "metadata": {
        "colab": {
          "base_uri": "https://localhost:8080/"
        },
        "id": "B2RFVTn-mBsv",
        "outputId": "be3d027a-d5f7-4795-b3ab-beb0c4347086"
      },
      "source": [
        "maximum(x1=[2,4],x2=[1,2,3],x3=[5,6])"
      ],
      "id": "B2RFVTn-mBsv",
      "execution_count": null,
      "outputs": [
        {
          "output_type": "stream",
          "name": "stdout",
          "text": [
            "The maximum output is [19]\n"
          ]
        }
      ]
    },
    {
      "cell_type": "markdown",
      "metadata": {
        "id": "I6C8omUUmBsw"
      },
      "source": [
        "### Question 2. Difficulty: Hard. Points = 50\n",
        "### \"Position in Repeating Series\"\n",
        "\n",
        "\n",
        "Your function will be called ```position``` and it has 3 inputs.\n",
        "\n",
        "This problem has 3 inputs:\n",
        "- The first input, (n), is the maximum number in our series\n",
        "- The second input, (r), is how many times our series will be repeated\n",
        "- The third input, (p), is the position of the desired output.\n",
        "\n",
        "Here are a few examples:\n",
        "\n",
        "- If n = 3, and r = 1, then our series will be: 1,2,3,2,1\n",
        "\n",
        "- If n = 4, and r = 1, then our series will be: 1,2,3,4,3,2,1\n",
        "\n",
        "- If n = 3, and r = 2, then our series will be: 1,2,3,2,1,2,3,2,1\n",
        "\n",
        "- If n = 4, and r = 2, then our series will be: 1,2,3,4,3,2,1,2,3,4,3,2,1\n",
        "\n",
        "- If n = 5, and r = 3, then our series will be: 1,2,3,4,5,4,3,2,1,2,3,4,5,4,3,2,1,2,3,4,5,4,3,2,1\n",
        "\n",
        "Now, what is the meaning of the third input? \n",
        "\n",
        "We want to know what's the value of the number in the position of p. The first number in the series is the first position. This is not the same as index! Indexing in Python starts at 0, and indexing in R starts at 1, so we want to make a standard that applies to both Python and R. \n",
        "\n",
        "#### Example 1\n",
        "\n",
        "n = 3, r = 1, p = 4\n",
        "\n",
        "The series is : 1, 2, 3, 2, 1\n",
        "\n",
        "The 4th number of the series = suku ke - 4 dari barisan tersebut = 2.\n",
        "\n",
        "Answer = 2.\n",
        "\n",
        "#### Example 2\n",
        "\n",
        "n = 3, r = 2, p = 7\n",
        "\n",
        "The series is : 1, 2, 3, 2, 1, 2, 3, 2, 1\n",
        "\n",
        "The 7th number of the series = suku ke - 7 dari barisan tersebut = 3.\n",
        "\n",
        "Answer = 3.\n",
        "\n",
        "#### Example 3\n",
        "\n",
        "n = 4, r = 2, p = 7\n",
        "\n",
        "The series is : 1, 2, 3, 4, 3, 2, 1, 2, 3, 4, 3, 2, 1\n",
        "\n",
        "The 7th number of the series = suku ke - 7 dari barisan tersebut = 1.\n",
        "\n",
        "Answer = 1.\n"
      ],
      "id": "I6C8omUUmBsw"
    },
    {
      "cell_type": "code",
      "metadata": {
        "id": "BmiuDpeXmBsy"
      },
      "source": [
        "### Write your solution here ###\n",
        "def position(n,r,p):\n",
        "  l1 = list(np.arange(1,n+1))\n",
        "  l2 = l1[0:n-1][::-1]\n",
        "  l3 = l1 + l2\n",
        "  l4 = l3[1:len(l3)]\n",
        "  if (r == 1) :\n",
        "    print(\"The series is\", l3)\n",
        "    print(\"Suku ke-\",p,\"dari barisan tersebut =\", l3[p-1])\n",
        "  elif (r > 1) :\n",
        "    while l3.count(n) < r :\n",
        "      l3 = l3 + l4\n",
        "      if l3.count(n) == r:\n",
        "        print(\"The series is\", l3)\n",
        "        print(\"Suku ke-\",p,\"dari barisan tersebut =\", l3[p-1])"
      ],
      "id": "BmiuDpeXmBsy",
      "execution_count": null,
      "outputs": []
    },
    {
      "cell_type": "code",
      "metadata": {
        "colab": {
          "base_uri": "https://localhost:8080/"
        },
        "id": "6BOmfi8ck_P3",
        "outputId": "3116baa3-ab84-4ccd-fd37-72218a6a2ae4"
      },
      "source": [
        "position(3,1,4)"
      ],
      "id": "6BOmfi8ck_P3",
      "execution_count": null,
      "outputs": [
        {
          "output_type": "stream",
          "name": "stdout",
          "text": [
            "The series is [1, 2, 3, 2, 1]\n",
            "Suku ke- 4 dari barisan tersebut = 2\n"
          ]
        }
      ]
    },
    {
      "cell_type": "code",
      "metadata": {
        "id": "8BmXyWtQk_Ff",
        "colab": {
          "base_uri": "https://localhost:8080/"
        },
        "outputId": "fa75a44f-eb29-45e2-ae79-bc1ba13be4ba"
      },
      "source": [
        "position(3,2,7)"
      ],
      "id": "8BmXyWtQk_Ff",
      "execution_count": null,
      "outputs": [
        {
          "output_type": "stream",
          "name": "stdout",
          "text": [
            "The series is [1, 2, 3, 2, 1, 2, 3, 2, 1]\n",
            "Suku ke- 7 dari barisan tersebut = 3\n"
          ]
        }
      ]
    },
    {
      "cell_type": "code",
      "metadata": {
        "id": "Pxpb1liclok7",
        "colab": {
          "base_uri": "https://localhost:8080/"
        },
        "outputId": "f6da0df2-fd25-4c67-a9f1-64190554fc6e"
      },
      "source": [
        "position(4,2,7)"
      ],
      "id": "Pxpb1liclok7",
      "execution_count": null,
      "outputs": [
        {
          "output_type": "stream",
          "name": "stdout",
          "text": [
            "The series is [1, 2, 3, 4, 3, 2, 1, 2, 3, 4, 3, 2, 1]\n",
            "Suku ke- 7 dari barisan tersebut = 1\n"
          ]
        }
      ]
    },
    {
      "cell_type": "code",
      "metadata": {
        "id": "GeOiEz3glsCG"
      },
      "source": [
        ""
      ],
      "id": "GeOiEz3glsCG",
      "execution_count": null,
      "outputs": []
    }
  ]
}