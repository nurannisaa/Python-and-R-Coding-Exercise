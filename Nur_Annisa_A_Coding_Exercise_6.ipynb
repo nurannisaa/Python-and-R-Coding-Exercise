{
  "nbformat": 4,
  "nbformat_minor": 5,
  "metadata": {
    "kernelspec": {
      "display_name": "Python 3",
      "language": "python",
      "name": "python3"
    },
    "language_info": {
      "codemirror_mode": {
        "name": "ipython",
        "version": 3
      },
      "file_extension": ".py",
      "mimetype": "text/x-python",
      "name": "python",
      "nbconvert_exporter": "python",
      "pygments_lexer": "ipython3",
      "version": "3.8.5"
    },
    "colab": {
      "name": "Nur Annisa A_Coding Exercise 6.ipynb",
      "provenance": [],
      "collapsed_sections": []
    }
  },
  "cells": [
    {
      "cell_type": "markdown",
      "metadata": {
        "id": "IIMx_7xqoFbE"
      },
      "source": [
        "## Welcome to Coding Exercise 6"
      ],
      "id": "IIMx_7xqoFbE"
    },
    {
      "cell_type": "markdown",
      "metadata": {
        "id": "ueI2K03roFbN"
      },
      "source": [
        "### Question 1. Points = 20 IF Answer is Correct, 30 IF Answer is Correct and your code consists of only 1 line.\n",
        "### \"Create Dictionary from 2 Lists\""
      ],
      "id": "ueI2K03roFbN"
    },
    {
      "cell_type": "markdown",
      "metadata": {
        "id": "DFeXwI8koFbO"
      },
      "source": [
        "Given two list/array/vector of the same length. Create a dictionary that maps the first list/array/vector as keys, and the second list/array/vector as values. Your function name should be called ```dictionary```. \n",
        "\n",
        "#### Example 1:\n",
        "\n",
        "- keys = ['Sepuluh', 'Dua puluh', 'Tiga puluh']\n",
        "- values = [10, 20, 30]\n",
        "\n",
        "Your output should be a dictionary that looks like:\n",
        "```{'Ten': 10, 'Twenty': 20, 'Thirty': 30}```\n",
        "\n",
        "#### Example 2:\n",
        "\n",
        "- keys = ['Phone', 'Tablet', 'Laptop']\n",
        "- values = ['iPhone 11', 'iPad Mini', 'Macbook Pro']\n",
        "\n",
        "Your output should be a dictionary that looks like: \n",
        "```{'Phone': 'iPhone 11', 'Tablet': 'iPad Mini', 'Laptop': 'Macbook Pro'}```\n",
        "\n",
        "#### Challenge: Can you write this code with only 1 line? \n",
        "\n",
        "This problem can be solved without looping. To get full point, try to come up with a solution that solves the problem in just one line. What is a one-line solution? Look at the cell below to find out."
      ],
      "id": "DFeXwI8koFbO"
    },
    {
      "cell_type": "code",
      "metadata": {
        "id": "I5LHHVfQoFbQ"
      },
      "source": [
        "### THIS IS AN EXAMPLE OF A MULTIPLE LINE SOLUTION ###\n",
        "\n",
        "def penjumlahan(x,y,z):\n",
        "    angka = [x,y,z]\n",
        "    hasil = 0\n",
        "    \n",
        "    for i in angka:\n",
        "        hasil = hasil + i\n",
        "    \n",
        "    return hasil\n",
        "\n",
        "\n",
        "### THIS IS AN EXAMPLE OF A ONE-LINE SOLUTION ###\n",
        "\n",
        "def penjumlahan(x,y,z):\n",
        "    return x + y + z\n",
        "\n",
        "### TRY TO SOLVE THIS PROBLEM WITH ONLY ONE LINE TO RECEIVE FULL SCORE ###"
      ],
      "id": "I5LHHVfQoFbQ",
      "execution_count": null,
      "outputs": []
    },
    {
      "cell_type": "code",
      "metadata": {
        "colab": {
          "base_uri": "https://localhost:8080/"
        },
        "id": "gpe5ODOgoFbS",
        "outputId": "874383ef-6023-4d95-ee9d-a0693bad9a7d"
      },
      "source": [
        "penjumlahan(1,2,3)"
      ],
      "id": "gpe5ODOgoFbS",
      "execution_count": null,
      "outputs": [
        {
          "output_type": "execute_result",
          "data": {
            "text/plain": [
              "6"
            ]
          },
          "metadata": {},
          "execution_count": 2
        }
      ]
    },
    {
      "cell_type": "code",
      "metadata": {
        "id": "oYbWtwvgoFbS"
      },
      "source": [
        "def dictionary(keys, values):\n",
        "  print({keys[i]: values[i] for i in range(len(keys))})\n",
        "  return"
      ],
      "id": "oYbWtwvgoFbS",
      "execution_count": null,
      "outputs": []
    },
    {
      "cell_type": "code",
      "metadata": {
        "colab": {
          "base_uri": "https://localhost:8080/"
        },
        "id": "wZtq3vIKoFbT",
        "outputId": "96d33b25-1c22-4b1f-f2b9-e878d437564f"
      },
      "source": [
        "dictionary(keys=('Sepuluh','Dua puluh','Tiga puluh'), values=(10,20,30))"
      ],
      "id": "wZtq3vIKoFbT",
      "execution_count": null,
      "outputs": [
        {
          "output_type": "stream",
          "name": "stdout",
          "text": [
            "{'Sepuluh': 10, 'Dua puluh': 20, 'Tiga puluh': 30}\n"
          ]
        }
      ]
    },
    {
      "cell_type": "code",
      "metadata": {
        "colab": {
          "base_uri": "https://localhost:8080/"
        },
        "id": "x6zspXkGcQnb",
        "outputId": "92ce8358-6666-4d42-a0dd-7ec9038d35b6"
      },
      "source": [
        "dictionary(keys=('Phone', 'Tablet', 'Laptop'), values=('iPhone 11', 'iPad Mini', 'Macbook Pro'))"
      ],
      "id": "x6zspXkGcQnb",
      "execution_count": null,
      "outputs": [
        {
          "output_type": "stream",
          "name": "stdout",
          "text": [
            "{'Phone': 'iPhone 11', 'Tablet': 'iPad Mini', 'Laptop': 'Macbook Pro'}\n"
          ]
        }
      ]
    },
    {
      "cell_type": "markdown",
      "metadata": {
        "id": "dKyzR2pLoFbU"
      },
      "source": [
        "### Question 2. Points = 30"
      ],
      "id": "dKyzR2pLoFbU"
    },
    {
      "cell_type": "markdown",
      "metadata": {
        "id": "rB5MTxLJoFbV"
      },
      "source": [
        "### \"Fibonacci\""
      ],
      "id": "rB5MTxLJoFbV"
    },
    {
      "cell_type": "markdown",
      "metadata": {
        "id": "36aJCT7BoFbW"
      },
      "source": [
        "Fibonacci is a sequence in which the nth term is the addition of (n-1) and (n-2) term. \n",
        "\n",
        "Fibonacci adalah barisan dimana suku ke-n adalah penjumlahan dari suku ke-(n-1) dan suku ke-(n-2).\n",
        "\n",
        "Your task is to guess the next fibonacci number after the input number, and tell us its position in the fibonacci series.\n",
        "\n",
        "The fibonacci sequence: 0, 1, 1, 2, 3, 5, 8, 13, 21, ....\n",
        "\n",
        "\n",
        "Your function name should be called `fibonacci`.\n",
        "\n",
        "#### Example 1:\n",
        "\n",
        "Input = 14\n",
        "\n",
        "Fibonacci Sequence = 0, 1, 1, 2, 3, 5, 8, 13, 21, ....\n",
        "\n",
        "The next fibonacci number after '14' is 21, and it is the 9th Fibonacci number. (The first fibonacci number is 0, the second fibonacci number is 1, the third fibonacci number is 1, the fourth fibonacci number is 2, etc).\n",
        "\n",
        "So, the answer should be: 'Next Fibonacci number is 21, and it is the 9th Fibonacci number'.\n",
        "\n",
        "\n",
        "#### Example 2:\n",
        "\n",
        "Input = 60\n",
        "\n",
        "Fibonacci Sequence = 0, 1, 1, 2, 3, 5, 8, 13, 21, 34, 55, 89, ...\n",
        "\n",
        "Answer: 'Next Fibonacci number is 89, and it is the 12th Fibonacci number'.\n",
        "\n",
        "\n",
        "#### Example 3:\n",
        "\n",
        "Input = 55\n",
        "\n",
        "Although 55 is a Fibonacci number, we should read the question again. Our task is to guess the NEXT Fibonacci number after our input number. So, the answer should be: 'Next Fibonacci number is 89, and it is the 12th Fibonacci number.'"
      ],
      "id": "36aJCT7BoFbW"
    },
    {
      "cell_type": "code",
      "metadata": {
        "id": "5S0vBSySoFbX"
      },
      "source": [
        "import numpy as np\n",
        "import pandas as pd\n",
        "seq = [0,1]\n",
        "def fibonacci(input_number):\n",
        "    a = 0\n",
        "    b = 1\n",
        "    fibo = [a, b]\n",
        "    while b < input_number+1:\n",
        "        a, b = b, a + b\n",
        "        fibo.append(b)\n",
        "\n",
        "    print(f'Next Fibonacci number is {fibo[len(fibo) - 1]}, and it is the {len(fibo)}th Fibonacci number')"
      ],
      "id": "5S0vBSySoFbX",
      "execution_count": null,
      "outputs": []
    },
    {
      "cell_type": "code",
      "metadata": {
        "colab": {
          "base_uri": "https://localhost:8080/"
        },
        "id": "rsX91qF0c34N",
        "outputId": "482d8f15-2208-45cc-b0a7-eca46b838cdd"
      },
      "source": [
        "fibonacci(14)"
      ],
      "id": "rsX91qF0c34N",
      "execution_count": null,
      "outputs": [
        {
          "output_type": "stream",
          "name": "stdout",
          "text": [
            "Next Fibonacci number is 21, and it is the 9th Fibonacci number\n"
          ]
        }
      ]
    },
    {
      "cell_type": "code",
      "metadata": {
        "colab": {
          "base_uri": "https://localhost:8080/"
        },
        "id": "r6roLczBcB_x",
        "outputId": "09b0c0f4-42d2-46b6-ce9e-59e9f13ee643"
      },
      "source": [
        "fibonacci(60)"
      ],
      "id": "r6roLczBcB_x",
      "execution_count": null,
      "outputs": [
        {
          "output_type": "stream",
          "name": "stdout",
          "text": [
            "Next Fibonacci number is 89, and it is the 12th Fibonacci number\n"
          ]
        }
      ]
    },
    {
      "cell_type": "code",
      "metadata": {
        "colab": {
          "base_uri": "https://localhost:8080/"
        },
        "id": "_9tJa9_7cFPl",
        "outputId": "a55b0ac0-bf5a-4eb4-d4d0-5b55707a34ea"
      },
      "source": [
        "fibonacci(55)"
      ],
      "id": "_9tJa9_7cFPl",
      "execution_count": null,
      "outputs": [
        {
          "output_type": "stream",
          "name": "stdout",
          "text": [
            "Next Fibonacci number is 89, and it is the 12th Fibonacci number\n"
          ]
        }
      ]
    },
    {
      "cell_type": "markdown",
      "metadata": {
        "id": "OScifUN9oFbY"
      },
      "source": [
        "### Question 3. Points = 40"
      ],
      "id": "OScifUN9oFbY"
    },
    {
      "cell_type": "markdown",
      "metadata": {
        "id": "qpYFepe7oFbY"
      },
      "source": [
        "### \"Scoring two Sets of Selection\""
      ],
      "id": "qpYFepe7oFbY"
    },
    {
      "cell_type": "markdown",
      "metadata": {
        "id": "pEWYMmhWoFbZ"
      },
      "source": [
        "You will receive 3 inputs in this problem.\n",
        "1. The first input will be all numbers in an list/array/vector. \n",
        "2. The second input will be distinct integers which are \"APPROVED\".\n",
        "3. The third input will be distinct integers which are \"NOT APPROVED\".\n",
        "\n",
        "Your function name should be `scoring`. \n",
        "\n",
        "Your function should read all numbers in the array:\n",
        "- If a number belongs to the APPROVED list, your score is added by 1\n",
        "- If a number belongs to the NOT APPROVED list, your score is reduced by 1\n",
        "- If a number does not belong to both list, your score stays the same.\n",
        "\n",
        "Your output will be the final score. \n",
        "\n",
        "\n",
        "#### Example 1:\n",
        "\n",
        "Input = [1,1,1,5,5,2,3,10]\n",
        "\n",
        "Approved = [1,3]\n",
        "\n",
        "Not approved = [5]\n",
        "\n",
        "- Starting score = 0\n",
        "- There are 3 values of '1' in the input. '1' belongs to the APPROVED set. So the score is added by 3. Score = 3\n",
        "- There are 2 values of '5' in the input. '5' belongs to the NOT APPROVED set. So the score is reduced by 2. Score = 1\n",
        "- There are 1 value of '3' in the input. '3' belongs to the APPROVED set. So the score is added by 1. Score = 2.\n",
        "- Final score = 2\n",
        "\n",
        "Output = 2.\n",
        "\n",
        "\n",
        "#### Example 2:\n",
        "\n",
        "Input = [1,2,3,4,10,9,8,7]\n",
        "\n",
        "Approved = [1,10,11]\n",
        "\n",
        "Not approved = [8,5]\n",
        "\n",
        "- Starting score = 0\n",
        "- There are 1 value of '1' in the input. '1' belongs to the APPROVED set. So the score is added by 1. Score = 1\n",
        "- There are 1 value of '10' in the input. '10' belongs to the APPROVED set. So the score is added by 1. Score = 2.\n",
        "- In the approved set, we have the number '11'. But the number '11' is not in the input. So, we don't do anything about it.\n",
        "- There are 1 value of '8' in the input. '8' belongs to the NOT APPROVED set. So the score is reduced by 1. Score = 1.\n",
        "- In the not approved set, we haev the number '5'. But the number '5' is not in the input. So, we don't do anything about it.\n",
        "- Final score = 1. \n",
        "\n",
        "Output = 1."
      ],
      "id": "pEWYMmhWoFbZ"
    },
    {
      "cell_type": "code",
      "metadata": {
        "id": "TBROLJbloFbZ"
      },
      "source": [
        "def scoring(input_array, approved, not_approved):\n",
        "  list1 = input_array\n",
        "  list2 = approved\n",
        "  list3 = not_approved\n",
        "\n",
        "  from collections import Counter\n",
        "  c = Counter(list1)\n",
        "  approved_score = sum(c [v] for v in set(list2))\n",
        "  not_approved_score = sum(c [v] for v in set(list3))\n",
        "  print(f'Final Score = {approved_score-not_approved_score}')\n",
        "  return"
      ],
      "id": "TBROLJbloFbZ",
      "execution_count": null,
      "outputs": []
    },
    {
      "cell_type": "code",
      "metadata": {
        "colab": {
          "base_uri": "https://localhost:8080/"
        },
        "id": "h6WUpEFEg6tR",
        "outputId": "7c692105-2818-40a6-b9f7-ecba2e5d77e8"
      },
      "source": [
        "scoring(input_array=[1,1,1,5,5,2,3,10], approved=[1,3], not_approved=[5])"
      ],
      "id": "h6WUpEFEg6tR",
      "execution_count": null,
      "outputs": [
        {
          "output_type": "stream",
          "name": "stdout",
          "text": [
            "Final Score = 2\n"
          ]
        }
      ]
    },
    {
      "cell_type": "code",
      "metadata": {
        "id": "_J1pyVyXoFbZ",
        "colab": {
          "base_uri": "https://localhost:8080/"
        },
        "outputId": "42f7be69-c786-46fe-e7fc-b466a3d66cd3"
      },
      "source": [
        "scoring(input_array=[1,2,3,4,10,9,8,7], approved=[1,10,11], not_approved=[8,5])"
      ],
      "id": "_J1pyVyXoFbZ",
      "execution_count": null,
      "outputs": [
        {
          "output_type": "stream",
          "name": "stdout",
          "text": [
            "Final Score = 1\n"
          ]
        }
      ]
    },
    {
      "cell_type": "code",
      "metadata": {
        "id": "CFooJPXmoFba"
      },
      "source": [
        ""
      ],
      "id": "CFooJPXmoFba",
      "execution_count": null,
      "outputs": []
    },
    {
      "cell_type": "code",
      "metadata": {
        "id": "aj0ZBY2ooFba"
      },
      "source": [
        ""
      ],
      "id": "aj0ZBY2ooFba",
      "execution_count": null,
      "outputs": []
    },
    {
      "cell_type": "code",
      "metadata": {
        "id": "r0pHX4-qoFba"
      },
      "source": [
        ""
      ],
      "id": "r0pHX4-qoFba",
      "execution_count": null,
      "outputs": []
    },
    {
      "cell_type": "code",
      "metadata": {
        "id": "i59_oZKkoFbb"
      },
      "source": [
        ""
      ],
      "id": "i59_oZKkoFbb",
      "execution_count": null,
      "outputs": []
    },
    {
      "cell_type": "code",
      "metadata": {
        "id": "gVTKIFCPoFbb"
      },
      "source": [
        ""
      ],
      "id": "gVTKIFCPoFbb",
      "execution_count": null,
      "outputs": []
    },
    {
      "cell_type": "code",
      "metadata": {
        "id": "C5cPCrifoFbb"
      },
      "source": [
        ""
      ],
      "id": "C5cPCrifoFbb",
      "execution_count": null,
      "outputs": []
    },
    {
      "cell_type": "code",
      "metadata": {
        "id": "RBZnO1a3oFbc"
      },
      "source": [
        ""
      ],
      "id": "RBZnO1a3oFbc",
      "execution_count": null,
      "outputs": []
    },
    {
      "cell_type": "code",
      "metadata": {
        "id": "V699ftS8oFbc"
      },
      "source": [
        ""
      ],
      "id": "V699ftS8oFbc",
      "execution_count": null,
      "outputs": []
    },
    {
      "cell_type": "code",
      "metadata": {
        "id": "lL5be91yoFbc"
      },
      "source": [
        ""
      ],
      "id": "lL5be91yoFbc",
      "execution_count": null,
      "outputs": []
    },
    {
      "cell_type": "code",
      "metadata": {
        "id": "Qjb8l287oFbc"
      },
      "source": [
        ""
      ],
      "id": "Qjb8l287oFbc",
      "execution_count": null,
      "outputs": []
    },
    {
      "cell_type": "code",
      "metadata": {
        "id": "beTKdJ4SoFbd"
      },
      "source": [
        ""
      ],
      "id": "beTKdJ4SoFbd",
      "execution_count": null,
      "outputs": []
    },
    {
      "cell_type": "code",
      "metadata": {
        "id": "GhNLo5iRcJ4n"
      },
      "source": [
        ""
      ],
      "id": "GhNLo5iRcJ4n",
      "execution_count": null,
      "outputs": []
    },
    {
      "cell_type": "code",
      "metadata": {
        "id": "kguKDt4YoFbd"
      },
      "source": [
        ""
      ],
      "id": "kguKDt4YoFbd",
      "execution_count": null,
      "outputs": []
    }
  ]
}