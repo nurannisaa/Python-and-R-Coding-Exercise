{
  "nbformat": 4,
  "nbformat_minor": 5,
  "metadata": {
    "kernelspec": {
      "display_name": "Python 3",
      "language": "python",
      "name": "python3"
    },
    "language_info": {
      "codemirror_mode": {
        "name": "ipython",
        "version": 3
      },
      "file_extension": ".py",
      "mimetype": "text/x-python",
      "name": "python",
      "nbconvert_exporter": "python",
      "pygments_lexer": "ipython3",
      "version": "3.7.0"
    },
    "colab": {
      "name": "Nur Annisa A_Coding Exercise 9.ipynb",
      "provenance": [],
      "collapsed_sections": []
    }
  },
  "cells": [
    {
      "cell_type": "markdown",
      "metadata": {
        "id": "c6466255"
      },
      "source": [
        "## Welcome To Coding Exercise 9\n",
        "\n",
        "**You only need to answer 2 question**"
      ],
      "id": "c6466255"
    },
    {
      "cell_type": "markdown",
      "metadata": {
        "id": "a7c27789"
      },
      "source": [
        "Today, we're discussing a very important library in Python called `numpy`. Next week, we're discussing another very important library in Python called `pandas`. For Exercise 9 and 10, there will be no `R` coding. \n",
        "\n",
        "We'll go back to `R` in Day 11. \n",
        "\n",
        "As a reference, these two libraries are primary requirements for Data Scientists in a top Indonesian tech company - while R is not listed in the requirements. \n",
        "\n",
        "So, it's very important to master these two libraries."
      ],
      "id": "a7c27789"
    },
    {
      "cell_type": "code",
      "metadata": {
        "id": "16fc201b",
        "colab": {
          "base_uri": "https://localhost:8080/"
        },
        "outputId": "14c0b208-134c-4cd6-d718-e3912de79152"
      },
      "source": [
        "!pip install -U IPython"
      ],
      "id": "16fc201b",
      "execution_count": null,
      "outputs": [
        {
          "output_type": "stream",
          "name": "stdout",
          "text": [
            "Requirement already satisfied: IPython in /usr/local/lib/python3.7/dist-packages (7.29.0)\n",
            "Requirement already satisfied: setuptools>=18.5 in /usr/local/lib/python3.7/dist-packages (from IPython) (57.4.0)\n",
            "Requirement already satisfied: matplotlib-inline in /usr/local/lib/python3.7/dist-packages (from IPython) (0.1.3)\n",
            "Requirement already satisfied: pickleshare in /usr/local/lib/python3.7/dist-packages (from IPython) (0.7.5)\n",
            "Requirement already satisfied: pygments in /usr/local/lib/python3.7/dist-packages (from IPython) (2.6.1)\n",
            "Requirement already satisfied: decorator in /usr/local/lib/python3.7/dist-packages (from IPython) (4.4.2)\n",
            "Requirement already satisfied: pexpect>4.3 in /usr/local/lib/python3.7/dist-packages (from IPython) (4.8.0)\n",
            "Requirement already satisfied: jedi>=0.16 in /usr/local/lib/python3.7/dist-packages (from IPython) (0.18.1)\n",
            "Requirement already satisfied: prompt-toolkit!=3.0.0,!=3.0.1,<3.1.0,>=2.0.0 in /usr/local/lib/python3.7/dist-packages (from IPython) (3.0.22)\n",
            "Requirement already satisfied: traitlets>=4.2 in /usr/local/lib/python3.7/dist-packages (from IPython) (5.1.1)\n",
            "Requirement already satisfied: backcall in /usr/local/lib/python3.7/dist-packages (from IPython) (0.2.0)\n",
            "Requirement already satisfied: parso<0.9.0,>=0.8.0 in /usr/local/lib/python3.7/dist-packages (from jedi>=0.16->IPython) (0.8.2)\n",
            "Requirement already satisfied: ptyprocess>=0.5 in /usr/local/lib/python3.7/dist-packages (from pexpect>4.3->IPython) (0.7.0)\n",
            "Requirement already satisfied: wcwidth in /usr/local/lib/python3.7/dist-packages (from prompt-toolkit!=3.0.0,!=3.0.1,<3.1.0,>=2.0.0->IPython) (0.2.5)\n"
          ]
        }
      ]
    },
    {
      "cell_type": "code",
      "metadata": {
        "id": "ccc51955",
        "colab": {
          "resources": {
            "http://localhost:8080/img/image1.jpg": {
              "data": "CjwhRE9DVFlQRSBodG1sPgo8aHRtbCBsYW5nPWVuPgogIDxtZXRhIGNoYXJzZXQ9dXRmLTg+CiAgPG1ldGEgbmFtZT12aWV3cG9ydCBjb250ZW50PSJpbml0aWFsLXNjYWxlPTEsIG1pbmltdW0tc2NhbGU9MSwgd2lkdGg9ZGV2aWNlLXdpZHRoIj4KICA8dGl0bGU+RXJyb3IgNDA0IChOb3QgRm91bmQpISExPC90aXRsZT4KICA8c3R5bGU+CiAgICAqe21hcmdpbjowO3BhZGRpbmc6MH1odG1sLGNvZGV7Zm9udDoxNXB4LzIycHggYXJpYWwsc2Fucy1zZXJpZn1odG1se2JhY2tncm91bmQ6I2ZmZjtjb2xvcjojMjIyO3BhZGRpbmc6MTVweH1ib2R5e21hcmdpbjo3JSBhdXRvIDA7bWF4LXdpZHRoOjM5MHB4O21pbi1oZWlnaHQ6MTgwcHg7cGFkZGluZzozMHB4IDAgMTVweH0qID4gYm9keXtiYWNrZ3JvdW5kOnVybCgvL3d3dy5nb29nbGUuY29tL2ltYWdlcy9lcnJvcnMvcm9ib3QucG5nKSAxMDAlIDVweCBuby1yZXBlYXQ7cGFkZGluZy1yaWdodDoyMDVweH1we21hcmdpbjoxMXB4IDAgMjJweDtvdmVyZmxvdzpoaWRkZW59aW5ze2NvbG9yOiM3Nzc7dGV4dC1kZWNvcmF0aW9uOm5vbmV9YSBpbWd7Ym9yZGVyOjB9QG1lZGlhIHNjcmVlbiBhbmQgKG1heC13aWR0aDo3NzJweCl7Ym9keXtiYWNrZ3JvdW5kOm5vbmU7bWFyZ2luLXRvcDowO21heC13aWR0aDpub25lO3BhZGRpbmctcmlnaHQ6MH19I2xvZ297YmFja2dyb3VuZDp1cmwoLy93d3cuZ29vZ2xlLmNvbS9pbWFnZXMvbG9nb3MvZXJyb3JwYWdlL2Vycm9yX2xvZ28tMTUweDU0LnBuZykgbm8tcmVwZWF0O21hcmdpbi1sZWZ0Oi01cHh9QG1lZGlhIG9ubHkgc2NyZWVuIGFuZCAobWluLXJlc29sdXRpb246MTkyZHBpKXsjbG9nb3tiYWNrZ3JvdW5kOnVybCgvL3d3dy5nb29nbGUuY29tL2ltYWdlcy9sb2dvcy9lcnJvcnBhZ2UvZXJyb3JfbG9nby0xNTB4NTQtMngucG5nKSBuby1yZXBlYXQgMCUgMCUvMTAwJSAxMDAlOy1tb3otYm9yZGVyLWltYWdlOnVybCgvL3d3dy5nb29nbGUuY29tL2ltYWdlcy9sb2dvcy9lcnJvcnBhZ2UvZXJyb3JfbG9nby0xNTB4NTQtMngucG5nKSAwfX1AbWVkaWEgb25seSBzY3JlZW4gYW5kICgtd2Via2l0LW1pbi1kZXZpY2UtcGl4ZWwtcmF0aW86Mil7I2xvZ297YmFja2dyb3VuZDp1cmwoLy93d3cuZ29vZ2xlLmNvbS9pbWFnZXMvbG9nb3MvZXJyb3JwYWdlL2Vycm9yX2xvZ28tMTUweDU0LTJ4LnBuZykgbm8tcmVwZWF0Oy13ZWJraXQtYmFja2dyb3VuZC1zaXplOjEwMCUgMTAwJX19I2xvZ297ZGlzcGxheTppbmxpbmUtYmxvY2s7aGVpZ2h0OjU0cHg7d2lkdGg6MTUwcHh9CiAgPC9zdHlsZT4KICA8YSBocmVmPS8vd3d3Lmdvb2dsZS5jb20vPjxzcGFuIGlkPWxvZ28gYXJpYS1sYWJlbD1Hb29nbGU+PC9zcGFuPjwvYT4KICA8cD48Yj40MDQuPC9iPiA8aW5zPlRoYXTigJlzIGFuIGVycm9yLjwvaW5zPgogIDxwPiAgPGlucz5UaGF04oCZcyBhbGwgd2Uga25vdy48L2lucz4K",
              "ok": false,
              "headers": [
                [
                  "content-length",
                  "1449"
                ],
                [
                  "content-type",
                  "text/html; charset=utf-8"
                ]
              ],
              "status": 404,
              "status_text": ""
            }
          },
          "base_uri": "https://localhost:8080/",
          "height": 421
        },
        "outputId": "79823098-9137-4837-b1c3-5bf884ede288"
      },
      "source": [
        "from IPython.display import Image\n",
        "Image(url= \"img/image1.jpg\", width=400, height=400)"
      ],
      "id": "ccc51955",
      "execution_count": null,
      "outputs": [
        {
          "output_type": "execute_result",
          "data": {
            "text/html": [
              "<img src=\"img/image1.jpg\" width=\"400\" height=\"400\"/>"
            ],
            "text/plain": [
              "<IPython.core.display.Image object>"
            ]
          },
          "metadata": {},
          "execution_count": 18
        }
      ]
    },
    {
      "cell_type": "code",
      "metadata": {
        "id": "d70e4ba5",
        "colab": {
          "resources": {
            "http://localhost:8080/img/image2.jpg": {
              "data": "CjwhRE9DVFlQRSBodG1sPgo8aHRtbCBsYW5nPWVuPgogIDxtZXRhIGNoYXJzZXQ9dXRmLTg+CiAgPG1ldGEgbmFtZT12aWV3cG9ydCBjb250ZW50PSJpbml0aWFsLXNjYWxlPTEsIG1pbmltdW0tc2NhbGU9MSwgd2lkdGg9ZGV2aWNlLXdpZHRoIj4KICA8dGl0bGU+RXJyb3IgNDA0IChOb3QgRm91bmQpISExPC90aXRsZT4KICA8c3R5bGU+CiAgICAqe21hcmdpbjowO3BhZGRpbmc6MH1odG1sLGNvZGV7Zm9udDoxNXB4LzIycHggYXJpYWwsc2Fucy1zZXJpZn1odG1se2JhY2tncm91bmQ6I2ZmZjtjb2xvcjojMjIyO3BhZGRpbmc6MTVweH1ib2R5e21hcmdpbjo3JSBhdXRvIDA7bWF4LXdpZHRoOjM5MHB4O21pbi1oZWlnaHQ6MTgwcHg7cGFkZGluZzozMHB4IDAgMTVweH0qID4gYm9keXtiYWNrZ3JvdW5kOnVybCgvL3d3dy5nb29nbGUuY29tL2ltYWdlcy9lcnJvcnMvcm9ib3QucG5nKSAxMDAlIDVweCBuby1yZXBlYXQ7cGFkZGluZy1yaWdodDoyMDVweH1we21hcmdpbjoxMXB4IDAgMjJweDtvdmVyZmxvdzpoaWRkZW59aW5ze2NvbG9yOiM3Nzc7dGV4dC1kZWNvcmF0aW9uOm5vbmV9YSBpbWd7Ym9yZGVyOjB9QG1lZGlhIHNjcmVlbiBhbmQgKG1heC13aWR0aDo3NzJweCl7Ym9keXtiYWNrZ3JvdW5kOm5vbmU7bWFyZ2luLXRvcDowO21heC13aWR0aDpub25lO3BhZGRpbmctcmlnaHQ6MH19I2xvZ297YmFja2dyb3VuZDp1cmwoLy93d3cuZ29vZ2xlLmNvbS9pbWFnZXMvbG9nb3MvZXJyb3JwYWdlL2Vycm9yX2xvZ28tMTUweDU0LnBuZykgbm8tcmVwZWF0O21hcmdpbi1sZWZ0Oi01cHh9QG1lZGlhIG9ubHkgc2NyZWVuIGFuZCAobWluLXJlc29sdXRpb246MTkyZHBpKXsjbG9nb3tiYWNrZ3JvdW5kOnVybCgvL3d3dy5nb29nbGUuY29tL2ltYWdlcy9sb2dvcy9lcnJvcnBhZ2UvZXJyb3JfbG9nby0xNTB4NTQtMngucG5nKSBuby1yZXBlYXQgMCUgMCUvMTAwJSAxMDAlOy1tb3otYm9yZGVyLWltYWdlOnVybCgvL3d3dy5nb29nbGUuY29tL2ltYWdlcy9sb2dvcy9lcnJvcnBhZ2UvZXJyb3JfbG9nby0xNTB4NTQtMngucG5nKSAwfX1AbWVkaWEgb25seSBzY3JlZW4gYW5kICgtd2Via2l0LW1pbi1kZXZpY2UtcGl4ZWwtcmF0aW86Mil7I2xvZ297YmFja2dyb3VuZDp1cmwoLy93d3cuZ29vZ2xlLmNvbS9pbWFnZXMvbG9nb3MvZXJyb3JwYWdlL2Vycm9yX2xvZ28tMTUweDU0LTJ4LnBuZykgbm8tcmVwZWF0Oy13ZWJraXQtYmFja2dyb3VuZC1zaXplOjEwMCUgMTAwJX19I2xvZ297ZGlzcGxheTppbmxpbmUtYmxvY2s7aGVpZ2h0OjU0cHg7d2lkdGg6MTUwcHh9CiAgPC9zdHlsZT4KICA8YSBocmVmPS8vd3d3Lmdvb2dsZS5jb20vPjxzcGFuIGlkPWxvZ28gYXJpYS1sYWJlbD1Hb29nbGU+PC9zcGFuPjwvYT4KICA8cD48Yj40MDQuPC9iPiA8aW5zPlRoYXTigJlzIGFuIGVycm9yLjwvaW5zPgogIDxwPiAgPGlucz5UaGF04oCZcyBhbGwgd2Uga25vdy48L2lucz4K",
              "ok": false,
              "headers": [
                [
                  "content-length",
                  "1449"
                ],
                [
                  "content-type",
                  "text/html; charset=utf-8"
                ]
              ],
              "status": 404,
              "status_text": ""
            }
          },
          "base_uri": "https://localhost:8080/",
          "height": 421
        },
        "outputId": "06f497e4-c29e-4c12-e7dd-809a55f4e23d"
      },
      "source": [
        "from IPython.display import Image\n",
        "Image(url= \"img/image2.jpg\", width=400, height=400)"
      ],
      "id": "d70e4ba5",
      "execution_count": null,
      "outputs": [
        {
          "output_type": "execute_result",
          "data": {
            "text/html": [
              "<img src=\"img/image2.jpg\" width=\"400\" height=\"400\"/>"
            ],
            "text/plain": [
              "<IPython.core.display.Image object>"
            ]
          },
          "metadata": {},
          "execution_count": 19
        }
      ]
    },
    {
      "cell_type": "markdown",
      "metadata": {
        "id": "3a19695c"
      },
      "source": [
        "### Numpy Question 1 "
      ],
      "id": "3a19695c"
    },
    {
      "cell_type": "code",
      "metadata": {
        "id": "34c5e1be"
      },
      "source": [
        "import numpy as np"
      ],
      "id": "34c5e1be",
      "execution_count": null,
      "outputs": []
    },
    {
      "cell_type": "markdown",
      "metadata": {
        "id": "ce57b62e"
      },
      "source": [
        "Your function will be called `display_max`. Your input will be a `numpy array`. Your output will be to tell us at which index is the maximum value of each row. Separate your output for each row with commas.\n",
        "\n",
        "If there are more than one maximum values, only tell us the position of the FIRST occurence. \n",
        "\n",
        "#### Example 1\n",
        "\n",
        "Input array: `[[1,2,3,4,3], [5,10,8,3,2], [-5,7,8.4,1,0]]`\n",
        "\n",
        "Output: 3, 1, 2\n",
        "\n",
        "Explanation:\n",
        "\n",
        "- The first row, `[1,2,3,4,3]`, has the maximum value of `4` at index = 3 (Remember! This is Python. Index starts at 0)\n",
        "\n",
        "- The second row, `[5,10,8,3,2]`, has the maximum value of `10` at index = 1\n",
        "\n",
        "- The third row, `[-5,7,8.4,1,0]`, has the maximum value of `8.4` at index = 2\n",
        "\n",
        "So, your output should be '3,1,2'\n",
        "\n",
        "#### Example 2\n",
        "\n",
        "Input array = `[[5,10,1,3], [1,5,1,5], [0,3,1,8]]`\n",
        "\n",
        "Output: 1,1,3\n",
        "\n",
        "Explanation:\n",
        "\n",
        "- The first row, `[5,10,1,3]` has the maximum value of `10` at index = 1\n",
        "- The second row, `[1,5,1,5]` has the maximum value of `5` at index = 1, 3. But we only need to print the first occurence, so we only print index = 1. \n",
        "- The third row, `[0,3,1,8]` has the maximum value of `8` at index = 3.\n",
        "\n",
        "So, your output should be '1,1,3'\n",
        "\n",
        "#### Constrains:\n",
        "- Number of rows could be any integer. We can have input array of any shape and sizes. "
      ],
      "id": "ce57b62e"
    },
    {
      "cell_type": "code",
      "metadata": {
        "id": "afc8949f"
      },
      "source": [
        "def display_max(input_array):\n",
        "    ### Write your solution here ###\n",
        "    max_index_row = np.argmax(input_array, axis=1)\n",
        "    print(max_index_row)"
      ],
      "id": "afc8949f",
      "execution_count": null,
      "outputs": []
    },
    {
      "cell_type": "code",
      "metadata": {
        "colab": {
          "base_uri": "https://localhost:8080/"
        },
        "id": "93UyWsGTK7dL",
        "outputId": "4352d07d-a84e-4fea-cdc8-7be9e3122b65"
      },
      "source": [
        "display_max(input_array=[[1,2,3,4,3], [5,10,8,3,2], [-5,7,8.4,1,0]])"
      ],
      "id": "93UyWsGTK7dL",
      "execution_count": null,
      "outputs": [
        {
          "output_type": "stream",
          "name": "stdout",
          "text": [
            "[3 1 2]\n"
          ]
        }
      ]
    },
    {
      "cell_type": "code",
      "metadata": {
        "colab": {
          "base_uri": "https://localhost:8080/"
        },
        "id": "4Gs_dFCaNAm_",
        "outputId": "f9ada6ce-89c0-446d-daff-90223473d673"
      },
      "source": [
        "display_max(input_array=[[5,10,1,3], [1,5,1,5], [0,3,1,8]])"
      ],
      "id": "4Gs_dFCaNAm_",
      "execution_count": null,
      "outputs": [
        {
          "output_type": "stream",
          "name": "stdout",
          "text": [
            "[1 1 3]\n"
          ]
        }
      ]
    },
    {
      "cell_type": "markdown",
      "metadata": {
        "id": "56ec00a5"
      },
      "source": [
        "### Numpy Question 2 \n"
      ],
      "id": "56ec00a5"
    },
    {
      "cell_type": "markdown",
      "metadata": {
        "id": "a93c3748"
      },
      "source": [
        "##### Reminder for Class Managers and Students. ####\n",
        "\n",
        "If the solution has looping `for`, `while`, you do not get full points. The aim of this exercise is to avoid looping while doing things that require certain conditions."
      ],
      "id": "a93c3748"
    },
    {
      "cell_type": "markdown",
      "metadata": {
        "id": "ab8fc5f3"
      },
      "source": [
        "#### Instructions: ####"
      ],
      "id": "ab8fc5f3"
    },
    {
      "cell_type": "markdown",
      "metadata": {
        "id": "95fe6946"
      },
      "source": [
        "Your function should be called `grade`. Your input will be an array where each rows shows the score of a student. Your output will be an array WITH THE EXACT SAME SIZE as the input array, but only filled with 'P' and 'F'.\n",
        "\n",
        "- If the score is >= 70, then for that test, the student passes. We give the symbol 'P' to indicate that the student passes.\n",
        "- If the score is < 70, then for that test, the student fails. We give the symbol 'F', to indicate that the student fails."
      ],
      "id": "95fe6946"
    },
    {
      "cell_type": "markdown",
      "metadata": {
        "id": "7a53a67f"
      },
      "source": [
        "#### Example 1:"
      ],
      "id": "7a53a67f"
    },
    {
      "cell_type": "code",
      "metadata": {
        "id": "04e3a36f",
        "colab": {
          "base_uri": "https://localhost:8080/"
        },
        "outputId": "9c5d1606-9978-4978-fbe9-53ebaf4115ea"
      },
      "source": [
        "input_array = np.array([[80,50,80,60,70],\n",
        "                       [100,90,80,70,50],\n",
        "                       [70,70,60,50,85]])\n",
        "input_array"
      ],
      "id": "04e3a36f",
      "execution_count": null,
      "outputs": [
        {
          "output_type": "execute_result",
          "data": {
            "text/plain": [
              "array([[ 80,  50,  80,  60,  70],\n",
              "       [100,  90,  80,  70,  50],\n",
              "       [ 70,  70,  60,  50,  85]])"
            ]
          },
          "metadata": {},
          "execution_count": 24
        }
      ]
    },
    {
      "cell_type": "markdown",
      "metadata": {
        "id": "a38c80f4"
      },
      "source": [
        "If the input is like the above array, then it means we have `3` students. Each student has `5` scores.\n",
        "\n",
        "- The first student's scores are: 80, 50, 80, 60, 70. From first to last, the student Pass, Fail, Pass, Fail, Pass\n",
        "- The second student's scores are: 100, 90, 80, 70, 50. From first to last, the student Pass, Pass, Pass, Pass, Fail\n",
        "- The third student's scores are: 70, 70, 60, 50, 80. From first to last, the student Pass, Pass, Fail, Fail, Pass"
      ],
      "id": "a38c80f4"
    },
    {
      "cell_type": "markdown",
      "metadata": {
        "id": "b04480c7"
      },
      "source": [
        "Then, when you do `grade(input_array)`,  your output should be like this:\n",
        "`[[P,F,P,F,P],[P,P,P,P,F],[P,P,F,F,P]]`"
      ],
      "id": "b04480c7"
    },
    {
      "cell_type": "markdown",
      "metadata": {
        "id": "f04f7a81"
      },
      "source": [
        "#### Example 2:"
      ],
      "id": "f04f7a81"
    },
    {
      "cell_type": "code",
      "metadata": {
        "id": "4fed75f0",
        "colab": {
          "base_uri": "https://localhost:8080/"
        },
        "outputId": "857296ae-a2aa-4390-ad95-0f4064cb9752"
      },
      "source": [
        "input_array = np.array([[100,50,100],\n",
        "                       [70,70,70],\n",
        "                       [40,80,40],\n",
        "                       [50,55,80]])\n",
        "input_array"
      ],
      "id": "4fed75f0",
      "execution_count": null,
      "outputs": [
        {
          "output_type": "execute_result",
          "data": {
            "text/plain": [
              "array([[100,  50, 100],\n",
              "       [ 70,  70,  70],\n",
              "       [ 40,  80,  40],\n",
              "       [ 50,  55,  80]])"
            ]
          },
          "metadata": {},
          "execution_count": 25
        }
      ]
    },
    {
      "cell_type": "markdown",
      "metadata": {
        "id": "5c41c5f8"
      },
      "source": [
        "If the input is like the above array, then it means we have `4` students. Each student has `3` scores. Then, when you do `grade(input_array)`,  your output should be like this:"
      ],
      "id": "5c41c5f8"
    },
    {
      "cell_type": "markdown",
      "metadata": {
        "id": "1519c86f"
      },
      "source": [
        "`[[P,F,P], [P,P,P], [F,P,F], [F,F,P]]`"
      ],
      "id": "1519c86f"
    },
    {
      "cell_type": "code",
      "metadata": {
        "id": "f98be5ff"
      },
      "source": [
        "def grade(input_array):\n",
        "    ### Write your solution here ###\n",
        "    input_arr = np.array(input_array)\n",
        "    new_arr = np.where((input_arr > 60),'P','F')\n",
        "    print(new_arr)"
      ],
      "id": "f98be5ff",
      "execution_count": null,
      "outputs": []
    },
    {
      "cell_type": "code",
      "metadata": {
        "id": "6271eaf5",
        "colab": {
          "base_uri": "https://localhost:8080/"
        },
        "outputId": "9d4c0ab7-361e-4605-9f49-d219fed3524d"
      },
      "source": [
        "grade(input_array=[[ 80,  50,  80,  60,  70],\n",
        "                   [100,  90,  80,  70,  50],\n",
        "                   [ 70,  70,  60,  50,  85]])"
      ],
      "id": "6271eaf5",
      "execution_count": null,
      "outputs": [
        {
          "output_type": "stream",
          "name": "stdout",
          "text": [
            "[['P' 'F' 'P' 'F' 'P']\n",
            " ['P' 'P' 'P' 'P' 'F']\n",
            " ['P' 'P' 'F' 'F' 'P']]\n"
          ]
        }
      ]
    },
    {
      "cell_type": "code",
      "metadata": {
        "colab": {
          "base_uri": "https://localhost:8080/"
        },
        "id": "coYKfk9MA2LI",
        "outputId": "25ed8d11-87e0-4b9f-8ea9-ea39cb0e227e"
      },
      "source": [
        "grade(input_array=[[100,50,100],\n",
        "                  [70,70,70],\n",
        "                  [40,80,40],\n",
        "                  [50,55,80]])"
      ],
      "id": "coYKfk9MA2LI",
      "execution_count": null,
      "outputs": [
        {
          "output_type": "stream",
          "name": "stdout",
          "text": [
            "[['P' 'F' 'P']\n",
            " ['P' 'P' 'P']\n",
            " ['F' 'P' 'F']\n",
            " ['F' 'F' 'P']]\n"
          ]
        }
      ]
    },
    {
      "cell_type": "markdown",
      "metadata": {
        "id": "4062c7fe"
      },
      "source": [
        "### Numpy Question 3 "
      ],
      "id": "4062c7fe"
    },
    {
      "cell_type": "markdown",
      "metadata": {
        "id": "2467cc66"
      },
      "source": [
        "Your function name should be called `one_hot`, and the input of your function is a numpy array. \n",
        "\n",
        "In this task, you are asked to convert an array of integers into one hot encoding. \n",
        "\n",
        "This is useful in machine learning and even deep learning cases, in which we want to do feature engineering, represent categorical classes, etc. \n",
        "\n",
        "Resource on one-hot-encoding: https://machinelearningmastery.com/why-one-hot-encode-data-in-machine-learning/"
      ],
      "id": "2467cc66"
    },
    {
      "cell_type": "markdown",
      "metadata": {
        "id": "68c5968a"
      },
      "source": [
        "#### Example 1:\n",
        "\n",
        "If the input array is `[2,3,1,2]` then the one-hot encoding version of it is: \n",
        "\n",
        "`[[0,1,0], [0,0,1], [1,0,0], [0,1,0]]`\n",
        "\n",
        "Explanation: there are 3 unique integers: 1, 2, and 3. If we want to represent them with one-hot encoding, we have to represent them in `0 and 1`. \n",
        "\n",
        "Because there are 3 unique integers, we represent them in 3 sequences of `0 and 1`. \n",
        "\n",
        "1 is represented as `[1, 0, 0]`\n",
        "2 is represented as `[0, 1, 0]`\n",
        "3 is represented as `[0, 0, 1]`\n",
        "\n",
        "So, if the `input_array` is `np.array([2,3,1,2])`\n",
        "And the array is passed into your function..\n",
        "\n",
        "`one_hot(input_array)` equals to `array([[0,1,0], [0,0,1], [1,0,0], [0,1,0]])`\n",
        "\n",
        "#### Example 2\n",
        "\n",
        "If the input array is `[4,2,1,3]` then the one-hot encoding version of it is: \n",
        "\n",
        "`[[0,0,0,1], [0,1,0,0], [1,0,0,0], [0,0,1,0]]`\n",
        "\n",
        "Explanation: there are 4 unique integers: 1, 2, 3, and 4. If we want to represent them with one-hot encoding, we have to represent them in `0 and 1`. \n",
        "\n",
        "Because there are 4 unique integers, we represent them in 4 sequences of `0 and 1`. \n",
        "\n",
        "1 is represented as `[1, 0, 0, 0]`\n",
        "2 is represented as `[0, 1, 0, 0]`\n",
        "3 is represented as `[0, 0, 1, 0]`\n",
        "4 is represented as `[0, 0, 0, 1]`\n",
        "\n",
        "So, if the `input_array` is `np.array([4,2,1,3])`\n",
        "And the array is passed into your function..\n",
        "\n",
        "`one_hot(input_array)` equals to `array([[0,0,0,1], [0,1,0,0], [1,0,0,0], [0,0,1,0]])`\n",
        "\n",
        "\n",
        "#### Constrains:\n",
        "\n",
        "- Integers in the input array will start with 1. \n",
        "- Integers in the input array will not be zero or negative numbers.\n",
        "- Integers will not be skipped (for example, it is impossible for the input array to have [4,1,2] because 3 is missing).\n",
        "\n"
      ],
      "id": "68c5968a"
    },
    {
      "cell_type": "code",
      "metadata": {
        "id": "bfc0fc16"
      },
      "source": [
        "def one_hot(input_array):\n",
        "    ### Write your solution here ###\n",
        "    a = np.array(input_array)\n",
        "    b = np.zeros((a.size, a.size))\n",
        "    b[np.arange(a.size),a-1] = 1\n",
        "    print(b)"
      ],
      "id": "bfc0fc16",
      "execution_count": null,
      "outputs": []
    },
    {
      "cell_type": "code",
      "metadata": {
        "id": "2b9f24ec",
        "colab": {
          "base_uri": "https://localhost:8080/"
        },
        "outputId": "d24eb173-841f-4f8a-e244-f27c480324f7"
      },
      "source": [
        "one_hot(input_array=[2,3,1,2])"
      ],
      "id": "2b9f24ec",
      "execution_count": null,
      "outputs": [
        {
          "output_type": "stream",
          "name": "stdout",
          "text": [
            "[[0. 1. 0. 0.]\n",
            " [0. 0. 1. 0.]\n",
            " [1. 0. 0. 0.]\n",
            " [0. 1. 0. 0.]]\n"
          ]
        }
      ]
    },
    {
      "cell_type": "code",
      "metadata": {
        "colab": {
          "base_uri": "https://localhost:8080/"
        },
        "id": "ulKlQDt1aMJH",
        "outputId": "cbd585ca-625c-43f3-bbc2-08bbe65503ec"
      },
      "source": [
        "one_hot(input_array=[4,2,1,3])"
      ],
      "id": "ulKlQDt1aMJH",
      "execution_count": null,
      "outputs": [
        {
          "output_type": "stream",
          "name": "stdout",
          "text": [
            "[[0. 0. 0. 1.]\n",
            " [0. 1. 0. 0.]\n",
            " [1. 0. 0. 0.]\n",
            " [0. 0. 1. 0.]]\n"
          ]
        }
      ]
    },
    {
      "cell_type": "code",
      "metadata": {
        "colab": {
          "base_uri": "https://localhost:8080/",
          "height": 287
        },
        "id": "JcPvgtJOapBR",
        "outputId": "60735b9d-c183-4e94-abd6-6bec6cbf0fda"
      },
      "source": [
        "## Proof for the third constrains : impossible for the input array to have [4,1,2] because 3 is missing\n",
        "one_hot(input_array=[4,1,2])"
      ],
      "id": "JcPvgtJOapBR",
      "execution_count": null,
      "outputs": [
        {
          "output_type": "error",
          "ename": "IndexError",
          "evalue": "ignored",
          "traceback": [
            "\u001b[0;31m---------------------------------------------------------------------------\u001b[0m",
            "\u001b[0;31mIndexError\u001b[0m                                Traceback (most recent call last)",
            "\u001b[0;32m<ipython-input-16-5a6b5dd19c2c>\u001b[0m in \u001b[0;36m<module>\u001b[0;34m()\u001b[0m\n\u001b[1;32m      1\u001b[0m \u001b[0;31m## Proof for the third constrains : impossible for the input array to have [4,1,2] because 3 is missing\u001b[0m\u001b[0;34m\u001b[0m\u001b[0;34m\u001b[0m\u001b[0;34m\u001b[0m\u001b[0m\n\u001b[0;32m----> 2\u001b[0;31m \u001b[0mone_hot\u001b[0m\u001b[0;34m(\u001b[0m\u001b[0minput_array\u001b[0m\u001b[0;34m=\u001b[0m\u001b[0;34m[\u001b[0m\u001b[0;36m4\u001b[0m\u001b[0;34m,\u001b[0m\u001b[0;36m1\u001b[0m\u001b[0;34m,\u001b[0m\u001b[0;36m2\u001b[0m\u001b[0;34m]\u001b[0m\u001b[0;34m)\u001b[0m\u001b[0;34m\u001b[0m\u001b[0;34m\u001b[0m\u001b[0m\n\u001b[0m",
            "\u001b[0;32m<ipython-input-13-1064986e426c>\u001b[0m in \u001b[0;36mone_hot\u001b[0;34m(input_array)\u001b[0m\n\u001b[1;32m      3\u001b[0m     \u001b[0ma\u001b[0m \u001b[0;34m=\u001b[0m \u001b[0mnp\u001b[0m\u001b[0;34m.\u001b[0m\u001b[0marray\u001b[0m\u001b[0;34m(\u001b[0m\u001b[0minput_array\u001b[0m\u001b[0;34m)\u001b[0m\u001b[0;34m\u001b[0m\u001b[0;34m\u001b[0m\u001b[0m\n\u001b[1;32m      4\u001b[0m     \u001b[0mb\u001b[0m \u001b[0;34m=\u001b[0m \u001b[0mnp\u001b[0m\u001b[0;34m.\u001b[0m\u001b[0mzeros\u001b[0m\u001b[0;34m(\u001b[0m\u001b[0;34m(\u001b[0m\u001b[0ma\u001b[0m\u001b[0;34m.\u001b[0m\u001b[0msize\u001b[0m\u001b[0;34m,\u001b[0m \u001b[0ma\u001b[0m\u001b[0;34m.\u001b[0m\u001b[0msize\u001b[0m\u001b[0;34m)\u001b[0m\u001b[0;34m)\u001b[0m\u001b[0;34m\u001b[0m\u001b[0;34m\u001b[0m\u001b[0m\n\u001b[0;32m----> 5\u001b[0;31m     \u001b[0mb\u001b[0m\u001b[0;34m[\u001b[0m\u001b[0mnp\u001b[0m\u001b[0;34m.\u001b[0m\u001b[0marange\u001b[0m\u001b[0;34m(\u001b[0m\u001b[0ma\u001b[0m\u001b[0;34m.\u001b[0m\u001b[0msize\u001b[0m\u001b[0;34m)\u001b[0m\u001b[0;34m,\u001b[0m\u001b[0ma\u001b[0m\u001b[0;34m-\u001b[0m\u001b[0;36m1\u001b[0m\u001b[0;34m]\u001b[0m \u001b[0;34m=\u001b[0m \u001b[0;36m1\u001b[0m\u001b[0;34m\u001b[0m\u001b[0;34m\u001b[0m\u001b[0m\n\u001b[0m\u001b[1;32m      6\u001b[0m     \u001b[0mprint\u001b[0m\u001b[0;34m(\u001b[0m\u001b[0mb\u001b[0m\u001b[0;34m)\u001b[0m\u001b[0;34m\u001b[0m\u001b[0;34m\u001b[0m\u001b[0m\n",
            "\u001b[0;31mIndexError\u001b[0m: index 3 is out of bounds for axis 1 with size 3"
          ]
        }
      ]
    }
  ]
}