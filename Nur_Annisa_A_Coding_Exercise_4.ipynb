{
  "nbformat": 4,
  "nbformat_minor": 5,
  "metadata": {
    "kernelspec": {
      "display_name": "Python 3",
      "language": "python",
      "name": "python3"
    },
    "language_info": {
      "codemirror_mode": {
        "name": "ipython",
        "version": 3
      },
      "file_extension": ".py",
      "mimetype": "text/x-python",
      "name": "python",
      "nbconvert_exporter": "python",
      "pygments_lexer": "ipython3",
      "version": "3.8.5"
    },
    "colab": {
      "name": "Nur Annisa A_Coding Exercise.ipynb",
      "provenance": [],
      "collapsed_sections": []
    }
  },
  "cells": [
    {
      "cell_type": "markdown",
      "metadata": {
        "id": "xCZW9nFWi9bm"
      },
      "source": [
        "## Welcome to Coding Exercise 4"
      ],
      "id": "xCZW9nFWi9bm"
    },
    {
      "cell_type": "markdown",
      "metadata": {
        "id": "q9oDZKQ6i9by"
      },
      "source": [
        "### Question 1. Points = 30\n",
        "### \"Shifting Members of an Array\""
      ],
      "id": "q9oDZKQ6i9by"
    },
    {
      "cell_type": "markdown",
      "metadata": {
        "id": "Oc_hDcQ5i9b0"
      },
      "source": [
        "In this question, we want to shift our array to the right. How many times? Depends on the input. \n",
        "\n",
        "##### Example 1:\n",
        "array = [1,2,3,4,5]\n",
        "steps = 3\n",
        "\n",
        "We need to shift the array 3 steps to the right. \n",
        "- Original array = [1,2,3,4,5]\n",
        "- Step 1 = [5,1,2,3,4]\n",
        "- Step 2 = [4,5,1,2,3]\n",
        "- Step 3 = [3,4,5,1,2]\n",
        "\n",
        "Answer = [3,4,5,1,2]\n",
        "\n",
        "##### Example 2:\n",
        "array = [1,2,3]\n",
        "steps = 5\n",
        "\n",
        "We need to shift the array 5 steps to the right.\n",
        "\n",
        "- Original array = [1,2,3]\n",
        "- Step 1 = [3,1,2]\n",
        "- Step 2 = [2,3,1]\n",
        "- Step 3 = [1,2,3]\n",
        "- Step 4 = [3,1,2]\n",
        "- Step 5 = [2,3,1]\n",
        "\n",
        "Answer = [2,3,1]"
      ],
      "id": "Oc_hDcQ5i9b0"
    },
    {
      "cell_type": "code",
      "metadata": {
        "id": "cC4gzTBpocde"
      },
      "source": [
        "### Write your function here ###\n",
        "import numpy as np\n",
        "\n",
        "def shift(array,steps):\n",
        "  new_array = np.roll(array,steps)\n",
        "  print(\"new_array =\",new_array)\n"
      ],
      "id": "cC4gzTBpocde",
      "execution_count": null,
      "outputs": []
    },
    {
      "cell_type": "code",
      "metadata": {
        "colab": {
          "base_uri": "https://localhost:8080/"
        },
        "id": "-eQOJosPrJW6",
        "outputId": "2b585507-1f3a-4b00-ff7f-230f64a329ea"
      },
      "source": [
        "shift(array=[1,2,3,4,5],steps=3)"
      ],
      "id": "-eQOJosPrJW6",
      "execution_count": null,
      "outputs": [
        {
          "output_type": "stream",
          "name": "stdout",
          "text": [
            "new_array = [3 4 5 1 2]\n"
          ]
        }
      ]
    },
    {
      "cell_type": "code",
      "metadata": {
        "colab": {
          "base_uri": "https://localhost:8080/"
        },
        "id": "6yLAgxPLosDb",
        "outputId": "2542de18-ea3b-46ee-e5a3-35af9787ff06"
      },
      "source": [
        "shift(array=[1,2,3],steps=5)"
      ],
      "id": "6yLAgxPLosDb",
      "execution_count": null,
      "outputs": [
        {
          "output_type": "stream",
          "name": "stdout",
          "text": [
            "new_array = [2 3 1]\n"
          ]
        }
      ]
    },
    {
      "cell_type": "markdown",
      "metadata": {
        "id": "0QQ-swHAi9b6"
      },
      "source": [
        "### Question 2. Points = 40\n",
        "### \"Segitiga Paskal\""
      ],
      "id": "0QQ-swHAi9b6"
    },
    {
      "cell_type": "markdown",
      "metadata": {
        "id": "CM8ODIozi9b7"
      },
      "source": [
        "We want to generate the n-th row of \"Pascal's Triangle\". Your function name should be ```pascal```. For those who does not know pascal triangle, watch this video: https://www.youtube.com/watch?v=1D3KsvfB8b0 and read https://www.mathsisfun.com/pascals-triangle.html \n",
        "\n",
        "##### Example 1:\n",
        "Input = 4,\n",
        "\n",
        "Answer = [1,4,6,4,1]\n",
        "\n",
        "##### Example 2:\n",
        "input = 3,\n",
        "\n",
        "Answer = [1,3,3,1]\n",
        "\n"
      ],
      "id": "CM8ODIozi9b7"
    },
    {
      "cell_type": "code",
      "metadata": {
        "id": "PYfLRNnJi9b_"
      },
      "source": [
        "### Write your solution here ###\n",
        "def pascal(P):\n",
        "  row = P + 1\n",
        "  a=[[] for i in range (row)]\n",
        "  for i in range (row):\n",
        "    for j in range (i+1):\n",
        "      if (j<i):\n",
        "        if(j==0):\n",
        "            a[i].append(1)\n",
        "        else:\n",
        "            a[i].append(a[i-1][j]+a[i-1][j-1])\n",
        "      elif (j==i):\n",
        "          a[i].append(1)\n",
        "\n",
        "  return a[-1]"
      ],
      "id": "PYfLRNnJi9b_",
      "execution_count": null,
      "outputs": []
    },
    {
      "cell_type": "code",
      "metadata": {
        "colab": {
          "base_uri": "https://localhost:8080/"
        },
        "id": "vm3e6T6syyJA",
        "outputId": "a690a2a6-4793-426a-bca6-7eb45140d785"
      },
      "source": [
        "pascal(4)"
      ],
      "id": "vm3e6T6syyJA",
      "execution_count": null,
      "outputs": [
        {
          "output_type": "execute_result",
          "data": {
            "text/plain": [
              "[1, 4, 6, 4, 1]"
            ]
          },
          "metadata": {},
          "execution_count": 20
        }
      ]
    },
    {
      "cell_type": "code",
      "metadata": {
        "id": "Ep7NISBAi9cD",
        "colab": {
          "base_uri": "https://localhost:8080/"
        },
        "outputId": "d37508ce-2690-4240-aa56-cd9ddf80166b"
      },
      "source": [
        "pascal(3)"
      ],
      "id": "Ep7NISBAi9cD",
      "execution_count": null,
      "outputs": [
        {
          "output_type": "execute_result",
          "data": {
            "text/plain": [
              "[1, 3, 3, 1]"
            ]
          },
          "metadata": {},
          "execution_count": 15
        }
      ]
    },
    {
      "cell_type": "markdown",
      "metadata": {
        "id": "N_T6jUmIi9cG"
      },
      "source": [
        "### Question 3. Points = 30"
      ],
      "id": "N_T6jUmIi9cG"
    },
    {
      "cell_type": "markdown",
      "metadata": {
        "id": "feA2MJBMi9cH"
      },
      "source": [
        "### \"Maximum Distance Between 3 Points\""
      ],
      "id": "feA2MJBMi9cH"
    },
    {
      "cell_type": "markdown",
      "metadata": {
        "id": "w4nrpaN_i9cI"
      },
      "source": [
        "Given three coordinates, determine which two points are the furthest apart, and output the length of their distance. Your function should be called ```max_distance```. First coordinate is called 'A', second coordinate is called 'B', third coordinate is called 'C'. \n",
        "\n",
        "\n",
        "##### Example:\n",
        "A = [1,2],\n",
        "B = [10,-10],\n",
        "C = [-3, 5]\n",
        "\n",
        "- The distance between AB = 15\n",
        "- The distance between BC = 19.8\n",
        "- The distance between AC = 8.06\n",
        "\n",
        "Answer = \"The point A, B are furthest apart with distance 19.8\"\n"
      ],
      "id": "w4nrpaN_i9cI"
    },
    {
      "cell_type": "code",
      "metadata": {
        "id": "2GedmH8ti9cJ"
      },
      "source": [
        "### Write your solution here ###\n",
        "import numpy as np\n",
        "import pandas as pd\n",
        "\n",
        "def max_distance(A,B,C):\n",
        "  print(\"coordinate A =\")\n",
        "  A=input()\n",
        "  print(\"coordinate B =\")\n",
        "  B=input()\n",
        "  print(\"coordinate C =\")\n",
        "  C=input()\n",
        "    \n",
        "  cA = A.split(\",\")\n",
        "  cB = B.split(\",\")\n",
        "  cC = C.split(\",\")\n",
        "\n",
        "  A_ = list(map(int, cA))\n",
        "  B_ = list(map(int, cB))\n",
        "  C_ = list(map(int, cC))\n",
        "\n",
        "  AB = ((B_[0]-A_[0])**2 + (B_[1]-A_[1])**2)**0.5\n",
        "  BC = ((C_[0]-B_[0])**2 + (C_[1]-B_[1])**2)**0.5\n",
        "  AC = ((C_[0]-A_[0])**2 + (C_[1]-A_[1])**2)**0.5\n",
        "\n",
        "  if AB > BC and AB > AC:\n",
        "    print(\"The point A, B are furthest apart with distance \", AB)\n",
        "  if BC > AB and BC > AC:\n",
        "    print(\"The point B, C are furthest apart with distance \", BC)\n",
        "  if AC > AB and AC > BC:\n",
        "    print(\"The point A, B are furthest apart with distance \", AC)"
      ],
      "id": "2GedmH8ti9cJ",
      "execution_count": null,
      "outputs": []
    },
    {
      "cell_type": "code",
      "metadata": {
        "colab": {
          "base_uri": "https://localhost:8080/"
        },
        "id": "ik7ibOl4i9cK",
        "outputId": "875b69ec-bdd2-47d9-d529-88815a1b78d2"
      },
      "source": [
        "max_distance(A,B,C)"
      ],
      "id": "ik7ibOl4i9cK",
      "execution_count": null,
      "outputs": [
        {
          "output_type": "stream",
          "name": "stdout",
          "text": [
            "coordinate A =\n",
            "1,2\n",
            "coordinate B =\n",
            "10,-10\n",
            "coordinate C =\n",
            "-3,5\n",
            "The point B, C are furthest apart with distance  19.849433241279208\n"
          ]
        }
      ]
    },
    {
      "cell_type": "code",
      "metadata": {
        "id": "ECQ9gTw5i9cM"
      },
      "source": [
        ""
      ],
      "id": "ECQ9gTw5i9cM",
      "execution_count": null,
      "outputs": []
    },
    {
      "cell_type": "code",
      "metadata": {
        "id": "GG_662gCi9cP"
      },
      "source": [
        ""
      ],
      "id": "GG_662gCi9cP",
      "execution_count": null,
      "outputs": []
    },
    {
      "cell_type": "code",
      "metadata": {
        "id": "I6sXtturi9cP"
      },
      "source": [
        ""
      ],
      "id": "I6sXtturi9cP",
      "execution_count": null,
      "outputs": []
    }
  ]
}