{
  "nbformat": 4,
  "nbformat_minor": 5,
  "metadata": {
    "kernelspec": {
      "display_name": "Python 3",
      "language": "python",
      "name": "python3"
    },
    "language_info": {
      "codemirror_mode": {
        "name": "ipython",
        "version": 3
      },
      "file_extension": ".py",
      "mimetype": "text/x-python",
      "name": "python",
      "nbconvert_exporter": "python",
      "pygments_lexer": "ipython3",
      "version": "3.7.0"
    },
    "colab": {
      "name": "Nur Annisa A_Coding Exercise 10.ipynb",
      "provenance": [],
      "collapsed_sections": []
    }
  },
  "cells": [
    {
      "cell_type": "markdown",
      "metadata": {
        "id": "a81b7c1e"
      },
      "source": [
        "## Welcome to Coding Exercise 10: Pandas Groupby"
      ],
      "id": "a81b7c1e"
    },
    {
      "cell_type": "markdown",
      "metadata": {
        "id": "7e616353"
      },
      "source": [
        "This time, we're going to dig deeper into what can be done in `pandas`, especially `groupby` function. The difficulty of these questions are high, however, mastering these two techniques gives you a very versatile tool in manipulating dataframe shapes."
      ],
      "id": "7e616353"
    },
    {
      "cell_type": "code",
      "metadata": {
        "id": "dbdcad95"
      },
      "source": [
        "import pandas as pd\n",
        "import numpy as np"
      ],
      "id": "dbdcad95",
      "execution_count": 24,
      "outputs": []
    },
    {
      "cell_type": "markdown",
      "metadata": {
        "id": "2a5c5754"
      },
      "source": [
        "### Pandas Question 1\n",
        "\n"
      ],
      "id": "2a5c5754"
    },
    {
      "cell_type": "markdown",
      "metadata": {
        "id": "5b0631d5"
      },
      "source": [
        "Your function name should be `expander` and your function will receive 2 inputs: the dataframe to be expanded, and the constant `n`, the number of rows to expand.\n",
        "\n",
        "Case:\n",
        "\n",
        "You are maintaining a dataframe containing types of phones and their variants. This year, to prepare for newer phones to be released, you want to adjust your table so it has a few blank rows to be filled later.\n",
        "\n",
        "For each type of phone, add `n` rows and fill those 2 rows with `np.nan` value. "
      ],
      "id": "5b0631d5"
    },
    {
      "cell_type": "markdown",
      "metadata": {
        "id": "72ff0347"
      },
      "source": [
        "##### Example 1\n",
        "\n",
        "Suppose you have this input dataframe:"
      ],
      "id": "72ff0347"
    },
    {
      "cell_type": "code",
      "metadata": {
        "id": "0fa3ff18",
        "colab": {
          "base_uri": "https://localhost:8080/",
          "height": 300
        },
        "outputId": "ab4d4f9a-916d-45e6-88c0-3632bb78ff65"
      },
      "source": [
        "df = pd.DataFrame({\n",
        "    'Type':['iPhone', 'iPhone', 'iPhone', 'iPhone', 'Samsung', 'Samsung', 'Samsung', 'Samsung'],\n",
        "    'Variants':['12 Mini', '12', '12 Pro', '12 Pro Max', 'S21 FE', 'S21', 'S21+', 'S21 Ultra']\n",
        "})\n",
        "\n",
        "df"
      ],
      "id": "0fa3ff18",
      "execution_count": 25,
      "outputs": [
        {
          "output_type": "execute_result",
          "data": {
            "text/html": [
              "<div>\n",
              "<style scoped>\n",
              "    .dataframe tbody tr th:only-of-type {\n",
              "        vertical-align: middle;\n",
              "    }\n",
              "\n",
              "    .dataframe tbody tr th {\n",
              "        vertical-align: top;\n",
              "    }\n",
              "\n",
              "    .dataframe thead th {\n",
              "        text-align: right;\n",
              "    }\n",
              "</style>\n",
              "<table border=\"1\" class=\"dataframe\">\n",
              "  <thead>\n",
              "    <tr style=\"text-align: right;\">\n",
              "      <th></th>\n",
              "      <th>Type</th>\n",
              "      <th>Variants</th>\n",
              "    </tr>\n",
              "  </thead>\n",
              "  <tbody>\n",
              "    <tr>\n",
              "      <th>0</th>\n",
              "      <td>iPhone</td>\n",
              "      <td>12 Mini</td>\n",
              "    </tr>\n",
              "    <tr>\n",
              "      <th>1</th>\n",
              "      <td>iPhone</td>\n",
              "      <td>12</td>\n",
              "    </tr>\n",
              "    <tr>\n",
              "      <th>2</th>\n",
              "      <td>iPhone</td>\n",
              "      <td>12 Pro</td>\n",
              "    </tr>\n",
              "    <tr>\n",
              "      <th>3</th>\n",
              "      <td>iPhone</td>\n",
              "      <td>12 Pro Max</td>\n",
              "    </tr>\n",
              "    <tr>\n",
              "      <th>4</th>\n",
              "      <td>Samsung</td>\n",
              "      <td>S21 FE</td>\n",
              "    </tr>\n",
              "    <tr>\n",
              "      <th>5</th>\n",
              "      <td>Samsung</td>\n",
              "      <td>S21</td>\n",
              "    </tr>\n",
              "    <tr>\n",
              "      <th>6</th>\n",
              "      <td>Samsung</td>\n",
              "      <td>S21+</td>\n",
              "    </tr>\n",
              "    <tr>\n",
              "      <th>7</th>\n",
              "      <td>Samsung</td>\n",
              "      <td>S21 Ultra</td>\n",
              "    </tr>\n",
              "  </tbody>\n",
              "</table>\n",
              "</div>"
            ],
            "text/plain": [
              "      Type    Variants\n",
              "0   iPhone     12 Mini\n",
              "1   iPhone          12\n",
              "2   iPhone      12 Pro\n",
              "3   iPhone  12 Pro Max\n",
              "4  Samsung      S21 FE\n",
              "5  Samsung         S21\n",
              "6  Samsung        S21+\n",
              "7  Samsung   S21 Ultra"
            ]
          },
          "metadata": {},
          "execution_count": 25
        }
      ]
    },
    {
      "cell_type": "markdown",
      "metadata": {
        "id": "d13577ba"
      },
      "source": [
        "And suppose the `n` value is 4. Then, for each type of phone inside the `Type` column, you have to add 4 more new rows. Leave the variants as `np.nan`.\n",
        "\n",
        "So, once you type in `expander(input_dataframe = df, n=4)`, the output will be:"
      ],
      "id": "d13577ba"
    },
    {
      "cell_type": "code",
      "metadata": {
        "scrolled": true,
        "id": "85ddd5a2",
        "colab": {
          "base_uri": "https://localhost:8080/",
          "height": 551
        },
        "outputId": "f62f282f-adba-401d-d2ef-efd45b6eaad6"
      },
      "source": [
        "df = pd.DataFrame({\n",
        "    'Type':['iPhone', 'iPhone', 'iPhone', 'iPhone',\n",
        "            'iPhone', 'iPhone', 'iPhone', 'iPhone',\n",
        "            'Samsung', 'Samsung', 'Samsung', 'Samsung',\n",
        "           'Samsung','Samsung', 'Samsung', 'Samsung'],\n",
        "    'Variants':['12 Mini', '12', '12 Pro', '12 Pro Max', \n",
        "                np.nan, np.nan, np.nan, np.nan,\n",
        "                'S21 FE', 'S21', 'S21+', 'S21 Ultra',\n",
        "               np.nan, np.nan, np.nan, np.nan]\n",
        "})\n",
        "\n",
        "df"
      ],
      "id": "85ddd5a2",
      "execution_count": 26,
      "outputs": [
        {
          "output_type": "execute_result",
          "data": {
            "text/html": [
              "<div>\n",
              "<style scoped>\n",
              "    .dataframe tbody tr th:only-of-type {\n",
              "        vertical-align: middle;\n",
              "    }\n",
              "\n",
              "    .dataframe tbody tr th {\n",
              "        vertical-align: top;\n",
              "    }\n",
              "\n",
              "    .dataframe thead th {\n",
              "        text-align: right;\n",
              "    }\n",
              "</style>\n",
              "<table border=\"1\" class=\"dataframe\">\n",
              "  <thead>\n",
              "    <tr style=\"text-align: right;\">\n",
              "      <th></th>\n",
              "      <th>Type</th>\n",
              "      <th>Variants</th>\n",
              "    </tr>\n",
              "  </thead>\n",
              "  <tbody>\n",
              "    <tr>\n",
              "      <th>0</th>\n",
              "      <td>iPhone</td>\n",
              "      <td>12 Mini</td>\n",
              "    </tr>\n",
              "    <tr>\n",
              "      <th>1</th>\n",
              "      <td>iPhone</td>\n",
              "      <td>12</td>\n",
              "    </tr>\n",
              "    <tr>\n",
              "      <th>2</th>\n",
              "      <td>iPhone</td>\n",
              "      <td>12 Pro</td>\n",
              "    </tr>\n",
              "    <tr>\n",
              "      <th>3</th>\n",
              "      <td>iPhone</td>\n",
              "      <td>12 Pro Max</td>\n",
              "    </tr>\n",
              "    <tr>\n",
              "      <th>4</th>\n",
              "      <td>iPhone</td>\n",
              "      <td>NaN</td>\n",
              "    </tr>\n",
              "    <tr>\n",
              "      <th>5</th>\n",
              "      <td>iPhone</td>\n",
              "      <td>NaN</td>\n",
              "    </tr>\n",
              "    <tr>\n",
              "      <th>6</th>\n",
              "      <td>iPhone</td>\n",
              "      <td>NaN</td>\n",
              "    </tr>\n",
              "    <tr>\n",
              "      <th>7</th>\n",
              "      <td>iPhone</td>\n",
              "      <td>NaN</td>\n",
              "    </tr>\n",
              "    <tr>\n",
              "      <th>8</th>\n",
              "      <td>Samsung</td>\n",
              "      <td>S21 FE</td>\n",
              "    </tr>\n",
              "    <tr>\n",
              "      <th>9</th>\n",
              "      <td>Samsung</td>\n",
              "      <td>S21</td>\n",
              "    </tr>\n",
              "    <tr>\n",
              "      <th>10</th>\n",
              "      <td>Samsung</td>\n",
              "      <td>S21+</td>\n",
              "    </tr>\n",
              "    <tr>\n",
              "      <th>11</th>\n",
              "      <td>Samsung</td>\n",
              "      <td>S21 Ultra</td>\n",
              "    </tr>\n",
              "    <tr>\n",
              "      <th>12</th>\n",
              "      <td>Samsung</td>\n",
              "      <td>NaN</td>\n",
              "    </tr>\n",
              "    <tr>\n",
              "      <th>13</th>\n",
              "      <td>Samsung</td>\n",
              "      <td>NaN</td>\n",
              "    </tr>\n",
              "    <tr>\n",
              "      <th>14</th>\n",
              "      <td>Samsung</td>\n",
              "      <td>NaN</td>\n",
              "    </tr>\n",
              "    <tr>\n",
              "      <th>15</th>\n",
              "      <td>Samsung</td>\n",
              "      <td>NaN</td>\n",
              "    </tr>\n",
              "  </tbody>\n",
              "</table>\n",
              "</div>"
            ],
            "text/plain": [
              "       Type    Variants\n",
              "0    iPhone     12 Mini\n",
              "1    iPhone          12\n",
              "2    iPhone      12 Pro\n",
              "3    iPhone  12 Pro Max\n",
              "4    iPhone         NaN\n",
              "5    iPhone         NaN\n",
              "6    iPhone         NaN\n",
              "7    iPhone         NaN\n",
              "8   Samsung      S21 FE\n",
              "9   Samsung         S21\n",
              "10  Samsung        S21+\n",
              "11  Samsung   S21 Ultra\n",
              "12  Samsung         NaN\n",
              "13  Samsung         NaN\n",
              "14  Samsung         NaN\n",
              "15  Samsung         NaN"
            ]
          },
          "metadata": {},
          "execution_count": 26
        }
      ]
    },
    {
      "cell_type": "markdown",
      "metadata": {
        "id": "d3ec1c02"
      },
      "source": [
        "##### Example 2\n",
        "\n",
        "Suppose you have this input dataframe:"
      ],
      "id": "d3ec1c02"
    },
    {
      "cell_type": "code",
      "metadata": {
        "id": "9e105d6d",
        "colab": {
          "base_uri": "https://localhost:8080/",
          "height": 237
        },
        "outputId": "2c6aa102-79f5-4489-ff69-2715a30a59f6"
      },
      "source": [
        "df = pd.DataFrame({\n",
        "    'Type':['Xiaomi', 'Xiaomi', 'Redmi', 'Redmi', 'Poco', 'Poco'],\n",
        "    'Variants':['11', '11 Pro', 'Note 11', 'Note 11 Pro', 'M3 5G', 'F3']\n",
        "})\n",
        "\n",
        "df"
      ],
      "id": "9e105d6d",
      "execution_count": 27,
      "outputs": [
        {
          "output_type": "execute_result",
          "data": {
            "text/html": [
              "<div>\n",
              "<style scoped>\n",
              "    .dataframe tbody tr th:only-of-type {\n",
              "        vertical-align: middle;\n",
              "    }\n",
              "\n",
              "    .dataframe tbody tr th {\n",
              "        vertical-align: top;\n",
              "    }\n",
              "\n",
              "    .dataframe thead th {\n",
              "        text-align: right;\n",
              "    }\n",
              "</style>\n",
              "<table border=\"1\" class=\"dataframe\">\n",
              "  <thead>\n",
              "    <tr style=\"text-align: right;\">\n",
              "      <th></th>\n",
              "      <th>Type</th>\n",
              "      <th>Variants</th>\n",
              "    </tr>\n",
              "  </thead>\n",
              "  <tbody>\n",
              "    <tr>\n",
              "      <th>0</th>\n",
              "      <td>Xiaomi</td>\n",
              "      <td>11</td>\n",
              "    </tr>\n",
              "    <tr>\n",
              "      <th>1</th>\n",
              "      <td>Xiaomi</td>\n",
              "      <td>11 Pro</td>\n",
              "    </tr>\n",
              "    <tr>\n",
              "      <th>2</th>\n",
              "      <td>Redmi</td>\n",
              "      <td>Note 11</td>\n",
              "    </tr>\n",
              "    <tr>\n",
              "      <th>3</th>\n",
              "      <td>Redmi</td>\n",
              "      <td>Note 11 Pro</td>\n",
              "    </tr>\n",
              "    <tr>\n",
              "      <th>4</th>\n",
              "      <td>Poco</td>\n",
              "      <td>M3 5G</td>\n",
              "    </tr>\n",
              "    <tr>\n",
              "      <th>5</th>\n",
              "      <td>Poco</td>\n",
              "      <td>F3</td>\n",
              "    </tr>\n",
              "  </tbody>\n",
              "</table>\n",
              "</div>"
            ],
            "text/plain": [
              "     Type     Variants\n",
              "0  Xiaomi           11\n",
              "1  Xiaomi       11 Pro\n",
              "2   Redmi      Note 11\n",
              "3   Redmi  Note 11 Pro\n",
              "4    Poco        M3 5G\n",
              "5    Poco           F3"
            ]
          },
          "metadata": {},
          "execution_count": 27
        }
      ]
    },
    {
      "cell_type": "markdown",
      "metadata": {
        "id": "1e756f54"
      },
      "source": [
        "And suppose the `n` value is 2. Then, for each type of phone inside the `Type` column, you have to add 2 more new rows. Leave the variants as `np.nan`. \n",
        "\n",
        "So, once you type in `expander(input_dataframe = df, n=2)`, the output will be:"
      ],
      "id": "1e756f54"
    },
    {
      "cell_type": "code",
      "metadata": {
        "scrolled": true,
        "id": "9c63cc7f",
        "colab": {
          "base_uri": "https://localhost:8080/",
          "height": 426
        },
        "outputId": "2378d3b3-fe07-4832-92d2-e4de02183079"
      },
      "source": [
        "df = pd.DataFrame({\n",
        "    'Type':['Xiaomi', 'Xiaomi', 'Xiaomi', 'Xiaomi', 'Redmi', 'Redmi', 'Redmi', 'Redmi', 'Poco', 'Poco','Poco', 'Poco'],\n",
        "    'Variants':['11', '11 Pro', np.nan, np.nan, 'Note 11', 'Note 11 Pro', np.nan, np.nan, 'M3 5G', 'F3', np.nan, np.nan]\n",
        "})\n",
        "\n",
        "df"
      ],
      "id": "9c63cc7f",
      "execution_count": 28,
      "outputs": [
        {
          "output_type": "execute_result",
          "data": {
            "text/html": [
              "<div>\n",
              "<style scoped>\n",
              "    .dataframe tbody tr th:only-of-type {\n",
              "        vertical-align: middle;\n",
              "    }\n",
              "\n",
              "    .dataframe tbody tr th {\n",
              "        vertical-align: top;\n",
              "    }\n",
              "\n",
              "    .dataframe thead th {\n",
              "        text-align: right;\n",
              "    }\n",
              "</style>\n",
              "<table border=\"1\" class=\"dataframe\">\n",
              "  <thead>\n",
              "    <tr style=\"text-align: right;\">\n",
              "      <th></th>\n",
              "      <th>Type</th>\n",
              "      <th>Variants</th>\n",
              "    </tr>\n",
              "  </thead>\n",
              "  <tbody>\n",
              "    <tr>\n",
              "      <th>0</th>\n",
              "      <td>Xiaomi</td>\n",
              "      <td>11</td>\n",
              "    </tr>\n",
              "    <tr>\n",
              "      <th>1</th>\n",
              "      <td>Xiaomi</td>\n",
              "      <td>11 Pro</td>\n",
              "    </tr>\n",
              "    <tr>\n",
              "      <th>2</th>\n",
              "      <td>Xiaomi</td>\n",
              "      <td>NaN</td>\n",
              "    </tr>\n",
              "    <tr>\n",
              "      <th>3</th>\n",
              "      <td>Xiaomi</td>\n",
              "      <td>NaN</td>\n",
              "    </tr>\n",
              "    <tr>\n",
              "      <th>4</th>\n",
              "      <td>Redmi</td>\n",
              "      <td>Note 11</td>\n",
              "    </tr>\n",
              "    <tr>\n",
              "      <th>5</th>\n",
              "      <td>Redmi</td>\n",
              "      <td>Note 11 Pro</td>\n",
              "    </tr>\n",
              "    <tr>\n",
              "      <th>6</th>\n",
              "      <td>Redmi</td>\n",
              "      <td>NaN</td>\n",
              "    </tr>\n",
              "    <tr>\n",
              "      <th>7</th>\n",
              "      <td>Redmi</td>\n",
              "      <td>NaN</td>\n",
              "    </tr>\n",
              "    <tr>\n",
              "      <th>8</th>\n",
              "      <td>Poco</td>\n",
              "      <td>M3 5G</td>\n",
              "    </tr>\n",
              "    <tr>\n",
              "      <th>9</th>\n",
              "      <td>Poco</td>\n",
              "      <td>F3</td>\n",
              "    </tr>\n",
              "    <tr>\n",
              "      <th>10</th>\n",
              "      <td>Poco</td>\n",
              "      <td>NaN</td>\n",
              "    </tr>\n",
              "    <tr>\n",
              "      <th>11</th>\n",
              "      <td>Poco</td>\n",
              "      <td>NaN</td>\n",
              "    </tr>\n",
              "  </tbody>\n",
              "</table>\n",
              "</div>"
            ],
            "text/plain": [
              "      Type     Variants\n",
              "0   Xiaomi           11\n",
              "1   Xiaomi       11 Pro\n",
              "2   Xiaomi          NaN\n",
              "3   Xiaomi          NaN\n",
              "4    Redmi      Note 11\n",
              "5    Redmi  Note 11 Pro\n",
              "6    Redmi          NaN\n",
              "7    Redmi          NaN\n",
              "8     Poco        M3 5G\n",
              "9     Poco           F3\n",
              "10    Poco          NaN\n",
              "11    Poco          NaN"
            ]
          },
          "metadata": {},
          "execution_count": 28
        }
      ]
    },
    {
      "cell_type": "markdown",
      "metadata": {
        "id": "3d08740f"
      },
      "source": [
        "#### Constraint\n",
        "\n",
        "It is impossible for `n` to exceed the number of original rows per group.\n",
        "\n",
        "For example, in the second example, since originally we only have 2 rows for each brand, (we only have 2 rows for Xiaomi, 2 rows for Redmi, and 2 rows for Poco), it is impossible for `n` to be 3."
      ],
      "id": "3d08740f"
    },
    {
      "cell_type": "code",
      "metadata": {
        "id": "5284c57e"
      },
      "source": [
        "def expander(input_dataframe, n):\n",
        "    ### Write your solution here ###\n",
        "\n",
        "  dic = dict(tuple(input_dataframe.groupby(input_dataframe.columns[0])))\n",
        "  unique = input_dataframe['Type'].unique()\n",
        "  cols = ['Type', 'Variants']\n",
        "  df = pd.DataFrame(columns=cols, index=range(n))\n",
        "\n",
        "  for i in range(len(unique)):\n",
        "    df = dic[unique[i]].copy()\n",
        "    df[\"Variants\"] = np.nan\n",
        "    expanded_result = dic[unique[i]].append(df,ignore_index=False)\n",
        "    print(expanded_result)"
      ],
      "id": "5284c57e",
      "execution_count": 29,
      "outputs": []
    },
    {
      "cell_type": "markdown",
      "metadata": {
        "id": "LGKnX__bXTo8"
      },
      "source": [
        "### Answer for Example 1"
      ],
      "id": "LGKnX__bXTo8"
    },
    {
      "cell_type": "code",
      "metadata": {
        "id": "424f262e",
        "colab": {
          "base_uri": "https://localhost:8080/"
        },
        "outputId": "a4da9c2a-dc5e-43c3-d49a-a97f063bdcba"
      },
      "source": [
        "expander(input_dataframe = pd.DataFrame({\n",
        "    'Type':['iPhone', 'iPhone', 'iPhone', 'iPhone', 'Samsung', 'Samsung', 'Samsung', 'Samsung'],\n",
        "    'Variants':['12 Mini', '12', '12 Pro', '12 Pro Max', 'S21 FE', 'S21', 'S21+', 'S21 Ultra']\n",
        "}),n = 4)"
      ],
      "id": "424f262e",
      "execution_count": 30,
      "outputs": [
        {
          "output_type": "stream",
          "name": "stdout",
          "text": [
            "     Type    Variants\n",
            "0  iPhone     12 Mini\n",
            "1  iPhone          12\n",
            "2  iPhone      12 Pro\n",
            "3  iPhone  12 Pro Max\n",
            "0  iPhone         NaN\n",
            "1  iPhone         NaN\n",
            "2  iPhone         NaN\n",
            "3  iPhone         NaN\n",
            "      Type   Variants\n",
            "4  Samsung     S21 FE\n",
            "5  Samsung        S21\n",
            "6  Samsung       S21+\n",
            "7  Samsung  S21 Ultra\n",
            "4  Samsung        NaN\n",
            "5  Samsung        NaN\n",
            "6  Samsung        NaN\n",
            "7  Samsung        NaN\n"
          ]
        }
      ]
    },
    {
      "cell_type": "markdown",
      "metadata": {
        "id": "f9fuxckoXdI8"
      },
      "source": [
        "### Answer for Example 2"
      ],
      "id": "f9fuxckoXdI8"
    },
    {
      "cell_type": "code",
      "metadata": {
        "colab": {
          "base_uri": "https://localhost:8080/"
        },
        "id": "8pg4ID2jXg2f",
        "outputId": "5ce118c6-a0a3-404f-da38-72f8c9f31f81"
      },
      "source": [
        "expander(input_dataframe = pd.DataFrame({\n",
        "    'Type':['Xiaomi', 'Xiaomi', 'Redmi', 'Redmi', 'Poco', 'Poco'],\n",
        "    'Variants':['11', '11 Pro', 'Note 11', 'Note 11 Pro', 'M3 5G', 'F3']\n",
        "}), n = 2)"
      ],
      "id": "8pg4ID2jXg2f",
      "execution_count": 31,
      "outputs": [
        {
          "output_type": "stream",
          "name": "stdout",
          "text": [
            "     Type Variants\n",
            "0  Xiaomi       11\n",
            "1  Xiaomi   11 Pro\n",
            "0  Xiaomi      NaN\n",
            "1  Xiaomi      NaN\n",
            "    Type     Variants\n",
            "2  Redmi      Note 11\n",
            "3  Redmi  Note 11 Pro\n",
            "2  Redmi          NaN\n",
            "3  Redmi          NaN\n",
            "   Type Variants\n",
            "4  Poco    M3 5G\n",
            "5  Poco       F3\n",
            "4  Poco      NaN\n",
            "5  Poco      NaN\n"
          ]
        }
      ]
    },
    {
      "cell_type": "markdown",
      "metadata": {
        "id": "997c0388"
      },
      "source": [
        "### Pandas Question 2"
      ],
      "id": "997c0388"
    },
    {
      "cell_type": "markdown",
      "metadata": {
        "id": "324361fe"
      },
      "source": [
        "Your function is called `scoring`. The input to your function is one dataframe. \n",
        "\n",
        "Case:\n",
        "\n",
        "You are a teacher maintaining a table of your students' scores on multiple subjects. You want to aggregate per each subject, and see the `minimum, average, and maximum` score of that subject."
      ],
      "id": "324361fe"
    },
    {
      "cell_type": "markdown",
      "metadata": {
        "id": "3cf40785"
      },
      "source": [
        "##### Example 1:\n",
        "\n",
        "For example, you have this dataframe."
      ],
      "id": "3cf40785"
    },
    {
      "cell_type": "code",
      "metadata": {
        "id": "a1a662ee",
        "colab": {
          "base_uri": "https://localhost:8080/",
          "height": 268
        },
        "outputId": "146f4148-c976-48fa-d55a-f1b25ea3c972"
      },
      "source": [
        "df = pd.DataFrame({\n",
        "    'Subject':['Math', 'Math', 'Math', 'Biology', 'Biology', 'Biology', 'Biology'],\n",
        "    'Student':['Annie', 'Bertholdt', 'Connie', 'Eren', 'Erwin', 'Hange', 'Levi'],\n",
        "    'Score':[80,70,50,85,90,100,90]\n",
        "})\n",
        "\n",
        "df"
      ],
      "id": "a1a662ee",
      "execution_count": 32,
      "outputs": [
        {
          "output_type": "execute_result",
          "data": {
            "text/html": [
              "<div>\n",
              "<style scoped>\n",
              "    .dataframe tbody tr th:only-of-type {\n",
              "        vertical-align: middle;\n",
              "    }\n",
              "\n",
              "    .dataframe tbody tr th {\n",
              "        vertical-align: top;\n",
              "    }\n",
              "\n",
              "    .dataframe thead th {\n",
              "        text-align: right;\n",
              "    }\n",
              "</style>\n",
              "<table border=\"1\" class=\"dataframe\">\n",
              "  <thead>\n",
              "    <tr style=\"text-align: right;\">\n",
              "      <th></th>\n",
              "      <th>Subject</th>\n",
              "      <th>Student</th>\n",
              "      <th>Score</th>\n",
              "    </tr>\n",
              "  </thead>\n",
              "  <tbody>\n",
              "    <tr>\n",
              "      <th>0</th>\n",
              "      <td>Math</td>\n",
              "      <td>Annie</td>\n",
              "      <td>80</td>\n",
              "    </tr>\n",
              "    <tr>\n",
              "      <th>1</th>\n",
              "      <td>Math</td>\n",
              "      <td>Bertholdt</td>\n",
              "      <td>70</td>\n",
              "    </tr>\n",
              "    <tr>\n",
              "      <th>2</th>\n",
              "      <td>Math</td>\n",
              "      <td>Connie</td>\n",
              "      <td>50</td>\n",
              "    </tr>\n",
              "    <tr>\n",
              "      <th>3</th>\n",
              "      <td>Biology</td>\n",
              "      <td>Eren</td>\n",
              "      <td>85</td>\n",
              "    </tr>\n",
              "    <tr>\n",
              "      <th>4</th>\n",
              "      <td>Biology</td>\n",
              "      <td>Erwin</td>\n",
              "      <td>90</td>\n",
              "    </tr>\n",
              "    <tr>\n",
              "      <th>5</th>\n",
              "      <td>Biology</td>\n",
              "      <td>Hange</td>\n",
              "      <td>100</td>\n",
              "    </tr>\n",
              "    <tr>\n",
              "      <th>6</th>\n",
              "      <td>Biology</td>\n",
              "      <td>Levi</td>\n",
              "      <td>90</td>\n",
              "    </tr>\n",
              "  </tbody>\n",
              "</table>\n",
              "</div>"
            ],
            "text/plain": [
              "   Subject    Student  Score\n",
              "0     Math      Annie     80\n",
              "1     Math  Bertholdt     70\n",
              "2     Math     Connie     50\n",
              "3  Biology       Eren     85\n",
              "4  Biology      Erwin     90\n",
              "5  Biology      Hange    100\n",
              "6  Biology       Levi     90"
            ]
          },
          "metadata": {},
          "execution_count": 32
        }
      ]
    },
    {
      "cell_type": "markdown",
      "metadata": {
        "id": "2351c6c5"
      },
      "source": [
        "Then, when you run `scoring(df)`, the output will be:"
      ],
      "id": "2351c6c5"
    },
    {
      "cell_type": "code",
      "metadata": {
        "id": "eadd0589",
        "colab": {
          "base_uri": "https://localhost:8080/",
          "height": 112
        },
        "outputId": "9bf28279-7666-4f17-e8e5-368f29e9324e"
      },
      "source": [
        "df = pd.DataFrame({\n",
        "    'Subject':['Math', 'Biology'],\n",
        "    'Min_Score':[50,85],\n",
        "    'Average_Score':[66.67, 91.25],\n",
        "    'Max_Score':[80,100]\n",
        "})\n",
        "\n",
        "df"
      ],
      "id": "eadd0589",
      "execution_count": 33,
      "outputs": [
        {
          "output_type": "execute_result",
          "data": {
            "text/html": [
              "<div>\n",
              "<style scoped>\n",
              "    .dataframe tbody tr th:only-of-type {\n",
              "        vertical-align: middle;\n",
              "    }\n",
              "\n",
              "    .dataframe tbody tr th {\n",
              "        vertical-align: top;\n",
              "    }\n",
              "\n",
              "    .dataframe thead th {\n",
              "        text-align: right;\n",
              "    }\n",
              "</style>\n",
              "<table border=\"1\" class=\"dataframe\">\n",
              "  <thead>\n",
              "    <tr style=\"text-align: right;\">\n",
              "      <th></th>\n",
              "      <th>Subject</th>\n",
              "      <th>Min_Score</th>\n",
              "      <th>Average_Score</th>\n",
              "      <th>Max_Score</th>\n",
              "    </tr>\n",
              "  </thead>\n",
              "  <tbody>\n",
              "    <tr>\n",
              "      <th>0</th>\n",
              "      <td>Math</td>\n",
              "      <td>50</td>\n",
              "      <td>66.67</td>\n",
              "      <td>80</td>\n",
              "    </tr>\n",
              "    <tr>\n",
              "      <th>1</th>\n",
              "      <td>Biology</td>\n",
              "      <td>85</td>\n",
              "      <td>91.25</td>\n",
              "      <td>100</td>\n",
              "    </tr>\n",
              "  </tbody>\n",
              "</table>\n",
              "</div>"
            ],
            "text/plain": [
              "   Subject  Min_Score  Average_Score  Max_Score\n",
              "0     Math         50          66.67         80\n",
              "1  Biology         85          91.25        100"
            ]
          },
          "metadata": {},
          "execution_count": 33
        }
      ]
    },
    {
      "cell_type": "markdown",
      "metadata": {
        "id": "985cb828"
      },
      "source": [
        "Explanation: \n",
        "\n",
        "For the subject 'Math', the minimum score is 50, the average score is 66.67 (average between 80,70, and 50), the maximum score is 80.\n",
        "\n",
        "For the subject 'Biology', the minimum score is 85, the average score is 91.25, and the maximum score is 100."
      ],
      "id": "985cb828"
    },
    {
      "cell_type": "markdown",
      "metadata": {
        "id": "1bdac124"
      },
      "source": [
        "##### Example 2:\n",
        "\n",
        "For example, you have this dataframe."
      ],
      "id": "1bdac124"
    },
    {
      "cell_type": "code",
      "metadata": {
        "id": "b0f522b9",
        "colab": {
          "base_uri": "https://localhost:8080/",
          "height": 331
        },
        "outputId": "3197d161-29cf-4639-b84d-a603882c1f3a"
      },
      "source": [
        "df = pd.DataFrame({\n",
        "    'Subject':['History', 'History', 'History', 'History', 'Sports', 'Sports', 'Sports', 'Sports', 'Sports'],\n",
        "    'Student':['Zeke', 'Reiner', 'Pieck', 'Porco', 'Armin', 'Floch', 'Sasha', 'Mikasa', 'Falco'],\n",
        "    'Score':[100,80,90,75,50,80,70,100,60]\n",
        "})\n",
        "\n",
        "df"
      ],
      "id": "b0f522b9",
      "execution_count": 34,
      "outputs": [
        {
          "output_type": "execute_result",
          "data": {
            "text/html": [
              "<div>\n",
              "<style scoped>\n",
              "    .dataframe tbody tr th:only-of-type {\n",
              "        vertical-align: middle;\n",
              "    }\n",
              "\n",
              "    .dataframe tbody tr th {\n",
              "        vertical-align: top;\n",
              "    }\n",
              "\n",
              "    .dataframe thead th {\n",
              "        text-align: right;\n",
              "    }\n",
              "</style>\n",
              "<table border=\"1\" class=\"dataframe\">\n",
              "  <thead>\n",
              "    <tr style=\"text-align: right;\">\n",
              "      <th></th>\n",
              "      <th>Subject</th>\n",
              "      <th>Student</th>\n",
              "      <th>Score</th>\n",
              "    </tr>\n",
              "  </thead>\n",
              "  <tbody>\n",
              "    <tr>\n",
              "      <th>0</th>\n",
              "      <td>History</td>\n",
              "      <td>Zeke</td>\n",
              "      <td>100</td>\n",
              "    </tr>\n",
              "    <tr>\n",
              "      <th>1</th>\n",
              "      <td>History</td>\n",
              "      <td>Reiner</td>\n",
              "      <td>80</td>\n",
              "    </tr>\n",
              "    <tr>\n",
              "      <th>2</th>\n",
              "      <td>History</td>\n",
              "      <td>Pieck</td>\n",
              "      <td>90</td>\n",
              "    </tr>\n",
              "    <tr>\n",
              "      <th>3</th>\n",
              "      <td>History</td>\n",
              "      <td>Porco</td>\n",
              "      <td>75</td>\n",
              "    </tr>\n",
              "    <tr>\n",
              "      <th>4</th>\n",
              "      <td>Sports</td>\n",
              "      <td>Armin</td>\n",
              "      <td>50</td>\n",
              "    </tr>\n",
              "    <tr>\n",
              "      <th>5</th>\n",
              "      <td>Sports</td>\n",
              "      <td>Floch</td>\n",
              "      <td>80</td>\n",
              "    </tr>\n",
              "    <tr>\n",
              "      <th>6</th>\n",
              "      <td>Sports</td>\n",
              "      <td>Sasha</td>\n",
              "      <td>70</td>\n",
              "    </tr>\n",
              "    <tr>\n",
              "      <th>7</th>\n",
              "      <td>Sports</td>\n",
              "      <td>Mikasa</td>\n",
              "      <td>100</td>\n",
              "    </tr>\n",
              "    <tr>\n",
              "      <th>8</th>\n",
              "      <td>Sports</td>\n",
              "      <td>Falco</td>\n",
              "      <td>60</td>\n",
              "    </tr>\n",
              "  </tbody>\n",
              "</table>\n",
              "</div>"
            ],
            "text/plain": [
              "   Subject Student  Score\n",
              "0  History    Zeke    100\n",
              "1  History  Reiner     80\n",
              "2  History   Pieck     90\n",
              "3  History   Porco     75\n",
              "4   Sports   Armin     50\n",
              "5   Sports   Floch     80\n",
              "6   Sports   Sasha     70\n",
              "7   Sports  Mikasa    100\n",
              "8   Sports   Falco     60"
            ]
          },
          "metadata": {},
          "execution_count": 34
        }
      ]
    },
    {
      "cell_type": "markdown",
      "metadata": {
        "id": "6b3cb6c9"
      },
      "source": [
        "Then, when you run `scoring(df)`, the output will be:"
      ],
      "id": "6b3cb6c9"
    },
    {
      "cell_type": "code",
      "metadata": {
        "id": "22253740",
        "colab": {
          "base_uri": "https://localhost:8080/",
          "height": 112
        },
        "outputId": "a5d85f40-2f61-42ef-c280-1a4493783504"
      },
      "source": [
        "df = pd.DataFrame({\n",
        "    'Subject':['History', 'Sports'],\n",
        "    'Min_Score':[75,50],\n",
        "    'Average_Score':[86.25,72],\n",
        "    'Max_Score':[100,100]\n",
        "})\n",
        "\n",
        "df"
      ],
      "id": "22253740",
      "execution_count": 35,
      "outputs": [
        {
          "output_type": "execute_result",
          "data": {
            "text/html": [
              "<div>\n",
              "<style scoped>\n",
              "    .dataframe tbody tr th:only-of-type {\n",
              "        vertical-align: middle;\n",
              "    }\n",
              "\n",
              "    .dataframe tbody tr th {\n",
              "        vertical-align: top;\n",
              "    }\n",
              "\n",
              "    .dataframe thead th {\n",
              "        text-align: right;\n",
              "    }\n",
              "</style>\n",
              "<table border=\"1\" class=\"dataframe\">\n",
              "  <thead>\n",
              "    <tr style=\"text-align: right;\">\n",
              "      <th></th>\n",
              "      <th>Subject</th>\n",
              "      <th>Min_Score</th>\n",
              "      <th>Average_Score</th>\n",
              "      <th>Max_Score</th>\n",
              "    </tr>\n",
              "  </thead>\n",
              "  <tbody>\n",
              "    <tr>\n",
              "      <th>0</th>\n",
              "      <td>History</td>\n",
              "      <td>75</td>\n",
              "      <td>86.25</td>\n",
              "      <td>100</td>\n",
              "    </tr>\n",
              "    <tr>\n",
              "      <th>1</th>\n",
              "      <td>Sports</td>\n",
              "      <td>50</td>\n",
              "      <td>72.00</td>\n",
              "      <td>100</td>\n",
              "    </tr>\n",
              "  </tbody>\n",
              "</table>\n",
              "</div>"
            ],
            "text/plain": [
              "   Subject  Min_Score  Average_Score  Max_Score\n",
              "0  History         75          86.25        100\n",
              "1   Sports         50          72.00        100"
            ]
          },
          "metadata": {},
          "execution_count": 35
        }
      ]
    },
    {
      "cell_type": "code",
      "metadata": {
        "id": "9b700bdb"
      },
      "source": [
        "def scoring(df):\n",
        "    ### Write your solution here ###\n",
        "    \n",
        "    recap = df.groupby('Subject').agg(Min_Score=('Score', 'min'),\n",
        "                              Average=('Score', 'mean'),\n",
        "                              Max_Price=('Score', 'max'))\n",
        "    print(recap)"
      ],
      "id": "9b700bdb",
      "execution_count": 36,
      "outputs": []
    },
    {
      "cell_type": "markdown",
      "metadata": {
        "id": "JZFKOa6sYbdV"
      },
      "source": [
        "### Answer for Example 1"
      ],
      "id": "JZFKOa6sYbdV"
    },
    {
      "cell_type": "code",
      "metadata": {
        "colab": {
          "base_uri": "https://localhost:8080/"
        },
        "id": "1L0X3ExfZGb4",
        "outputId": "4f3893a7-90e6-4753-8116-c4832de7d551"
      },
      "source": [
        "scoring(df=pd.DataFrame({\n",
        "    'Subject':['Math', 'Math', 'Math', 'Biology', 'Biology', 'Biology', 'Biology'],\n",
        "    'Student':['Annie', 'Bertholdt', 'Connie', 'Eren', 'Erwin', 'Hange', 'Levi'],\n",
        "    'Score':[80,70,50,85,90,100,90]\n",
        "}))"
      ],
      "id": "1L0X3ExfZGb4",
      "execution_count": 37,
      "outputs": [
        {
          "output_type": "stream",
          "name": "stdout",
          "text": [
            "         Min_Score    Average  Max_Price\n",
            "Subject                                 \n",
            "Biology         85  91.250000        100\n",
            "Math            50  66.666667         80\n"
          ]
        }
      ]
    },
    {
      "cell_type": "markdown",
      "metadata": {
        "id": "hm1f50pfYwBX"
      },
      "source": [
        "### Answer for Example 2"
      ],
      "id": "hm1f50pfYwBX"
    },
    {
      "cell_type": "code",
      "metadata": {
        "colab": {
          "base_uri": "https://localhost:8080/"
        },
        "id": "mK_-6pRHYsb3",
        "outputId": "81a9e91c-2f9d-49a1-d6c0-256e23e05969"
      },
      "source": [
        "scoring(df=pd.DataFrame({\n",
        "    'Subject':['History', 'History', 'History', 'History', 'Sports', 'Sports', 'Sports', 'Sports', 'Sports'],\n",
        "    'Student':['Zeke', 'Reiner', 'Pieck', 'Porco', 'Armin', 'Floch', 'Sasha', 'Mikasa', 'Falco'],\n",
        "    'Score':[100,80,90,75,50,80,70,100,60]\n",
        "}))"
      ],
      "id": "mK_-6pRHYsb3",
      "execution_count": 38,
      "outputs": [
        {
          "output_type": "stream",
          "name": "stdout",
          "text": [
            "         Min_Score  Average  Max_Price\n",
            "Subject                               \n",
            "History         75    86.25        100\n",
            "Sports          50    72.00        100\n"
          ]
        }
      ]
    },
    {
      "cell_type": "code",
      "metadata": {
        "id": "oQYHGHEVY9IW"
      },
      "source": [
        ""
      ],
      "id": "oQYHGHEVY9IW",
      "execution_count": 38,
      "outputs": []
    }
  ]
}